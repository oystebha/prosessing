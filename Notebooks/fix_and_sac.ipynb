{
 "cells": [
  {
   "cell_type": "code",
   "execution_count": 1,
   "id": "b724e922-26c2-409c-8e72-286fde8a2a8b",
   "metadata": {
    "scrolled": true
   },
   "outputs": [
    {
     "name": "stdout",
     "output_type": "stream",
     "text": [
      "Requirement already satisfied: numpy in /home/ystein/Dokumenter/Master/jupyter/environment/lib/python3.8/site-packages (1.24.3)\n",
      "\u001b[33mWARNING: You are using pip version 21.2.4; however, version 23.1.2 is available.\n",
      "You should consider upgrading via the '/home/ystein/Dokumenter/Master/jupyter/environment/bin/python -m pip install --upgrade pip' command.\u001b[0m\n",
      "Requirement already satisfied: pandas in /home/ystein/Dokumenter/Master/jupyter/environment/lib/python3.8/site-packages (2.0.2)\n",
      "Requirement already satisfied: python-dateutil>=2.8.2 in /home/ystein/Dokumenter/Master/jupyter/environment/lib/python3.8/site-packages (from pandas) (2.8.2)\n",
      "Requirement already satisfied: numpy>=1.20.3 in /home/ystein/Dokumenter/Master/jupyter/environment/lib/python3.8/site-packages (from pandas) (1.24.3)\n",
      "Requirement already satisfied: pytz>=2020.1 in /home/ystein/Dokumenter/Master/jupyter/environment/lib/python3.8/site-packages (from pandas) (2023.3)\n",
      "Requirement already satisfied: tzdata>=2022.1 in /home/ystein/Dokumenter/Master/jupyter/environment/lib/python3.8/site-packages (from pandas) (2023.3)\n",
      "Requirement already satisfied: six>=1.5 in /home/ystein/Dokumenter/Master/jupyter/environment/lib/python3.8/site-packages (from python-dateutil>=2.8.2->pandas) (1.16.0)\n",
      "\u001b[33mWARNING: You are using pip version 21.2.4; however, version 23.1.2 is available.\n",
      "You should consider upgrading via the '/home/ystein/Dokumenter/Master/jupyter/environment/bin/python -m pip install --upgrade pip' command.\u001b[0m\n",
      "Requirement already satisfied: tsfresh in /home/ystein/Dokumenter/Master/jupyter/environment/lib/python3.8/site-packages (0.20.1)\n",
      "Requirement already satisfied: distributed>=2.11.0 in /home/ystein/Dokumenter/Master/jupyter/environment/lib/python3.8/site-packages (from tsfresh) (2023.5.0)\n",
      "Requirement already satisfied: dask[dataframe]>=2.9.0 in /home/ystein/Dokumenter/Master/jupyter/environment/lib/python3.8/site-packages (from tsfresh) (2023.5.0)\n",
      "Requirement already satisfied: requests>=2.9.1 in /home/ystein/Dokumenter/Master/jupyter/environment/lib/python3.8/site-packages (from tsfresh) (2.31.0)\n",
      "Requirement already satisfied: tqdm>=4.10.0 in /home/ystein/Dokumenter/Master/jupyter/environment/lib/python3.8/site-packages (from tsfresh) (4.65.0)\n",
      "Requirement already satisfied: stumpy>=1.7.2 in /home/ystein/Dokumenter/Master/jupyter/environment/lib/python3.8/site-packages (from tsfresh) (1.11.1)\n",
      "Requirement already satisfied: scipy>=1.2.0 in /home/ystein/Dokumenter/Master/jupyter/environment/lib/python3.8/site-packages (from tsfresh) (1.10.1)\n",
      "Requirement already satisfied: numpy>=1.15.1 in /home/ystein/Dokumenter/Master/jupyter/environment/lib/python3.8/site-packages (from tsfresh) (1.24.3)\n",
      "Requirement already satisfied: cloudpickle in /home/ystein/Dokumenter/Master/jupyter/environment/lib/python3.8/site-packages (from tsfresh) (2.2.1)\n",
      "Requirement already satisfied: scikit-learn>=0.22.0 in /home/ystein/Dokumenter/Master/jupyter/environment/lib/python3.8/site-packages (from tsfresh) (1.2.2)\n",
      "Requirement already satisfied: pandas>=0.25.0 in /home/ystein/Dokumenter/Master/jupyter/environment/lib/python3.8/site-packages (from tsfresh) (2.0.2)\n",
      "Requirement already satisfied: patsy>=0.4.1 in /home/ystein/Dokumenter/Master/jupyter/environment/lib/python3.8/site-packages (from tsfresh) (0.5.3)\n",
      "Requirement already satisfied: statsmodels>=0.13 in /home/ystein/Dokumenter/Master/jupyter/environment/lib/python3.8/site-packages (from tsfresh) (0.14.0)\n",
      "Requirement already satisfied: toolz>=0.10.0 in /home/ystein/Dokumenter/Master/jupyter/environment/lib/python3.8/site-packages (from dask[dataframe]>=2.9.0->tsfresh) (0.12.0)\n",
      "Requirement already satisfied: packaging>=20.0 in /home/ystein/Dokumenter/Master/jupyter/environment/lib/python3.8/site-packages (from dask[dataframe]>=2.9.0->tsfresh) (23.1)\n",
      "Requirement already satisfied: partd>=1.2.0 in /home/ystein/Dokumenter/Master/jupyter/environment/lib/python3.8/site-packages (from dask[dataframe]>=2.9.0->tsfresh) (1.4.0)\n",
      "Requirement already satisfied: pyyaml>=5.3.1 in /home/ystein/Dokumenter/Master/jupyter/environment/lib/python3.8/site-packages (from dask[dataframe]>=2.9.0->tsfresh) (6.0)\n",
      "Requirement already satisfied: fsspec>=2021.09.0 in /home/ystein/Dokumenter/Master/jupyter/environment/lib/python3.8/site-packages (from dask[dataframe]>=2.9.0->tsfresh) (2023.6.0)\n",
      "Requirement already satisfied: importlib-metadata>=4.13.0 in /home/ystein/Dokumenter/Master/jupyter/environment/lib/python3.8/site-packages (from dask[dataframe]>=2.9.0->tsfresh) (6.7.0)\n",
      "Requirement already satisfied: click>=8.0 in /home/ystein/Dokumenter/Master/jupyter/environment/lib/python3.8/site-packages (from dask[dataframe]>=2.9.0->tsfresh) (8.1.3)\n",
      "Requirement already satisfied: urllib3>=1.24.3 in /home/ystein/Dokumenter/Master/jupyter/environment/lib/python3.8/site-packages (from distributed>=2.11.0->tsfresh) (2.0.3)\n",
      "Requirement already satisfied: jinja2>=2.10.3 in /home/ystein/Dokumenter/Master/jupyter/environment/lib/python3.8/site-packages (from distributed>=2.11.0->tsfresh) (3.1.2)\n",
      "Requirement already satisfied: zict>=2.2.0 in /home/ystein/Dokumenter/Master/jupyter/environment/lib/python3.8/site-packages (from distributed>=2.11.0->tsfresh) (3.0.0)\n",
      "Requirement already satisfied: psutil>=5.7.0 in /home/ystein/Dokumenter/Master/jupyter/environment/lib/python3.8/site-packages (from distributed>=2.11.0->tsfresh) (5.9.5)\n",
      "Requirement already satisfied: tblib>=1.6.0 in /home/ystein/Dokumenter/Master/jupyter/environment/lib/python3.8/site-packages (from distributed>=2.11.0->tsfresh) (1.7.0)\n",
      "Requirement already satisfied: locket>=1.0.0 in /home/ystein/Dokumenter/Master/jupyter/environment/lib/python3.8/site-packages (from distributed>=2.11.0->tsfresh) (1.0.0)\n",
      "Requirement already satisfied: sortedcontainers>=2.0.5 in /home/ystein/Dokumenter/Master/jupyter/environment/lib/python3.8/site-packages (from distributed>=2.11.0->tsfresh) (2.4.0)\n",
      "Requirement already satisfied: tornado>=6.0.3 in /home/ystein/Dokumenter/Master/jupyter/environment/lib/python3.8/site-packages (from distributed>=2.11.0->tsfresh) (6.3.2)\n",
      "Requirement already satisfied: msgpack>=1.0.0 in /home/ystein/Dokumenter/Master/jupyter/environment/lib/python3.8/site-packages (from distributed>=2.11.0->tsfresh) (1.0.5)\n",
      "Requirement already satisfied: zipp>=0.5 in /home/ystein/Dokumenter/Master/jupyter/environment/lib/python3.8/site-packages (from importlib-metadata>=4.13.0->dask[dataframe]>=2.9.0->tsfresh) (3.15.0)\n",
      "Requirement already satisfied: MarkupSafe>=2.0 in /home/ystein/Dokumenter/Master/jupyter/environment/lib/python3.8/site-packages (from jinja2>=2.10.3->distributed>=2.11.0->tsfresh) (2.1.3)\n",
      "Requirement already satisfied: python-dateutil>=2.8.2 in /home/ystein/Dokumenter/Master/jupyter/environment/lib/python3.8/site-packages (from pandas>=0.25.0->tsfresh) (2.8.2)\n",
      "Requirement already satisfied: tzdata>=2022.1 in /home/ystein/Dokumenter/Master/jupyter/environment/lib/python3.8/site-packages (from pandas>=0.25.0->tsfresh) (2023.3)\n",
      "Requirement already satisfied: pytz>=2020.1 in /home/ystein/Dokumenter/Master/jupyter/environment/lib/python3.8/site-packages (from pandas>=0.25.0->tsfresh) (2023.3)\n",
      "Requirement already satisfied: six in /home/ystein/Dokumenter/Master/jupyter/environment/lib/python3.8/site-packages (from patsy>=0.4.1->tsfresh) (1.16.0)\n",
      "Requirement already satisfied: idna<4,>=2.5 in /home/ystein/Dokumenter/Master/jupyter/environment/lib/python3.8/site-packages (from requests>=2.9.1->tsfresh) (3.4)\n",
      "Requirement already satisfied: certifi>=2017.4.17 in /home/ystein/Dokumenter/Master/jupyter/environment/lib/python3.8/site-packages (from requests>=2.9.1->tsfresh) (2023.5.7)\n",
      "Requirement already satisfied: charset-normalizer<4,>=2 in /home/ystein/Dokumenter/Master/jupyter/environment/lib/python3.8/site-packages (from requests>=2.9.1->tsfresh) (3.1.0)\n",
      "Requirement already satisfied: threadpoolctl>=2.0.0 in /home/ystein/Dokumenter/Master/jupyter/environment/lib/python3.8/site-packages (from scikit-learn>=0.22.0->tsfresh) (3.1.0)\n",
      "Requirement already satisfied: joblib>=1.1.1 in /home/ystein/Dokumenter/Master/jupyter/environment/lib/python3.8/site-packages (from scikit-learn>=0.22.0->tsfresh) (1.2.0)\n",
      "Requirement already satisfied: numba>=0.54 in /home/ystein/Dokumenter/Master/jupyter/environment/lib/python3.8/site-packages (from stumpy>=1.7.2->tsfresh) (0.57.0)\n",
      "Requirement already satisfied: llvmlite<0.41,>=0.40.0dev0 in /home/ystein/Dokumenter/Master/jupyter/environment/lib/python3.8/site-packages (from numba>=0.54->stumpy>=1.7.2->tsfresh) (0.40.1rc1)\n",
      "\u001b[33mWARNING: You are using pip version 21.2.4; however, version 23.1.2 is available.\n",
      "You should consider upgrading via the '/home/ystein/Dokumenter/Master/jupyter/environment/bin/python -m pip install --upgrade pip' command.\u001b[0m\n"
     ]
    }
   ],
   "source": [
    "import sys\n",
    "!{sys.executable} -m pip install numpy\n",
    "!{sys.executable} -m pip install pandas\n",
    "!{sys.executable} -m pip install tsfresh"
   ]
  },
  {
   "cell_type": "code",
   "execution_count": 1,
   "id": "7ff1ed1b-0612-4414-b1aa-f4ff12072edf",
   "metadata": {},
   "outputs": [],
   "source": [
    "import os\n",
    "import pandas as pd\n",
    "import numpy as np\n",
    "\n",
    "from tsfresh import extract_features\n",
    "from tsfresh.feature_extraction import MinimalFCParameters"
   ]
  },
  {
   "cell_type": "code",
   "execution_count": 2,
   "id": "6caff3f4-771a-4790-b121-7b452edea136",
   "metadata": {},
   "outputs": [],
   "source": [
    "input_dir_path = '../analysis/ready_group/fix_sac_all/'\n",
    "output_dir = '../extracted_features/computed_ready/eye_movement'\n"
   ]
  },
  {
   "cell_type": "code",
   "execution_count": 3,
   "id": "d126ad3d-10c5-4453-a756-150d120d9a84",
   "metadata": {},
   "outputs": [
    {
     "name": "stdout",
     "output_type": "stream",
     "text": [
      "f10031_fixations_and_saccades.csv\n"
     ]
    },
    {
     "name": "stderr",
     "output_type": "stream",
     "text": [
      "Feature Extraction: 100%|███████████████████████████████████████████████████| 20/20 [00:01<00:00, 10.35it/s]\n",
      "Feature Extraction: 100%|███████████████████████████████████████████████████| 20/20 [00:03<00:00,  6.47it/s]\n",
      "Feature Extraction: 100%|███████████████████████████████████████████████████| 20/20 [00:02<00:00,  6.85it/s]\n",
      "Feature Extraction: 100%|███████████████████████████████████████████████████| 20/20 [00:03<00:00,  6.18it/s]\n",
      "Feature Extraction: 100%|███████████████████████████████████████████████████| 20/20 [00:03<00:00,  5.26it/s]\n",
      "Feature Extraction: 100%|███████████████████████████████████████████████████| 20/20 [00:03<00:00,  6.17it/s]\n",
      "Feature Extraction: 100%|███████████████████████████████████████████████████| 20/20 [00:03<00:00,  5.70it/s]\n",
      "Feature Extraction: 100%|███████████████████████████████████████████████████| 20/20 [00:03<00:00,  5.95it/s]\n",
      "Feature Extraction: 100%|███████████████████████████████████████████████████| 20/20 [00:03<00:00,  6.47it/s]\n",
      "Feature Extraction: 100%|█████████████████████████████████████████████████| 20/20 [00:00<00:00, 1852.98it/s]\n",
      "Feature Extraction: 100%|█████████████████████████████████████████████████| 20/20 [00:00<00:00, 1300.16it/s]\n",
      "Feature Extraction: 100%|███████████████████████████████████████████████████| 20/20 [00:03<00:00,  6.44it/s]\n",
      "Feature Extraction: 100%|███████████████████████████████████████████████████| 20/20 [00:03<00:00,  5.61it/s]\n"
     ]
    },
    {
     "name": "stdout",
     "output_type": "stream",
     "text": [
      "f10021_fixations_and_saccades.csv\n"
     ]
    },
    {
     "name": "stderr",
     "output_type": "stream",
     "text": [
      "Feature Extraction: 100%|███████████████████████████████████████████████████| 20/20 [00:02<00:00,  6.71it/s]\n",
      "Feature Extraction: 100%|███████████████████████████████████████████████████| 20/20 [00:05<00:00,  3.84it/s]\n",
      "Feature Extraction: 100%|███████████████████████████████████████████████████| 20/20 [00:07<00:00,  2.80it/s]\n",
      "Feature Extraction: 100%|███████████████████████████████████████████████████| 20/20 [00:06<00:00,  2.89it/s]\n",
      "Feature Extraction: 100%|███████████████████████████████████████████████████| 20/20 [00:06<00:00,  2.90it/s]\n",
      "Feature Extraction: 100%|███████████████████████████████████████████████████| 20/20 [00:06<00:00,  2.92it/s]\n",
      "Feature Extraction: 100%|███████████████████████████████████████████████████| 20/20 [00:07<00:00,  2.65it/s]\n",
      "Feature Extraction: 100%|███████████████████████████████████████████████████| 20/20 [00:06<00:00,  2.89it/s]\n",
      "Feature Extraction: 100%|███████████████████████████████████████████████████| 20/20 [00:07<00:00,  2.62it/s]\n",
      "Feature Extraction: 100%|██████████████████████████████████████████████████| 20/20 [00:00<00:00, 585.05it/s]\n",
      "Feature Extraction: 100%|██████████████████████████████████████████████████| 20/20 [00:00<00:00, 674.04it/s]\n",
      "Feature Extraction: 100%|███████████████████████████████████████████████████| 20/20 [00:07<00:00,  2.79it/s]\n",
      "Feature Extraction: 100%|███████████████████████████████████████████████████| 20/20 [00:06<00:00,  3.21it/s]\n"
     ]
    },
    {
     "name": "stdout",
     "output_type": "stream",
     "text": [
      "f10051_fixations_and_saccades.csv\n"
     ]
    },
    {
     "name": "stderr",
     "output_type": "stream",
     "text": [
      "Feature Extraction: 100%|███████████████████████████████████████████████████| 20/20 [00:03<00:00,  6.12it/s]\n",
      "Feature Extraction: 100%|███████████████████████████████████████████████████| 20/20 [00:06<00:00,  3.27it/s]\n",
      "Feature Extraction: 100%|███████████████████████████████████████████████████| 20/20 [00:06<00:00,  3.29it/s]\n",
      "Feature Extraction: 100%|███████████████████████████████████████████████████| 20/20 [00:04<00:00,  4.05it/s]\n",
      "Feature Extraction: 100%|███████████████████████████████████████████████████| 20/20 [00:05<00:00,  3.50it/s]\n",
      "Feature Extraction: 100%|███████████████████████████████████████████████████| 20/20 [00:07<00:00,  2.68it/s]\n",
      "Feature Extraction: 100%|███████████████████████████████████████████████████| 20/20 [00:06<00:00,  3.17it/s]\n",
      "Feature Extraction: 100%|███████████████████████████████████████████████████| 20/20 [00:06<00:00,  2.86it/s]\n",
      "Feature Extraction: 100%|███████████████████████████████████████████████████| 20/20 [00:07<00:00,  2.82it/s]\n",
      "Feature Extraction: 100%|██████████████████████████████████████████████████| 20/20 [00:00<00:00, 757.52it/s]\n",
      "Feature Extraction: 100%|██████████████████████████████████████████████████| 20/20 [00:00<00:00, 832.43it/s]\n",
      "Feature Extraction: 100%|███████████████████████████████████████████████████| 20/20 [00:06<00:00,  3.15it/s]\n",
      "Feature Extraction: 100%|███████████████████████████████████████████████████| 20/20 [00:07<00:00,  2.62it/s]\n"
     ]
    },
    {
     "name": "stdout",
     "output_type": "stream",
     "text": [
      "10010_fixations_and_saccades.csv\n"
     ]
    },
    {
     "name": "stderr",
     "output_type": "stream",
     "text": [
      "Feature Extraction: 100%|███████████████████████████████████████████████████| 20/20 [00:03<00:00,  5.47it/s]\n",
      "Feature Extraction: 100%|███████████████████████████████████████████████████| 20/20 [00:06<00:00,  2.96it/s]\n",
      "Feature Extraction: 100%|███████████████████████████████████████████████████| 20/20 [00:06<00:00,  2.98it/s]\n",
      "Feature Extraction: 100%|███████████████████████████████████████████████████| 20/20 [00:05<00:00,  3.47it/s]\n",
      "Feature Extraction: 100%|███████████████████████████████████████████████████| 20/20 [00:06<00:00,  3.10it/s]\n",
      "Feature Extraction: 100%|███████████████████████████████████████████████████| 20/20 [00:07<00:00,  2.66it/s]\n",
      "Feature Extraction: 100%|███████████████████████████████████████████████████| 20/20 [00:06<00:00,  3.31it/s]\n",
      "Feature Extraction: 100%|███████████████████████████████████████████████████| 20/20 [00:05<00:00,  3.41it/s]\n",
      "Feature Extraction: 100%|███████████████████████████████████████████████████| 20/20 [00:05<00:00,  3.65it/s]\n",
      "Feature Extraction: 100%|██████████████████████████████████████████████████| 20/20 [00:00<00:00, 952.84it/s]\n",
      "Feature Extraction: 100%|██████████████████████████████████████████████████| 20/20 [00:00<00:00, 883.47it/s]\n",
      "Feature Extraction: 100%|███████████████████████████████████████████████████| 20/20 [00:05<00:00,  3.76it/s]\n",
      "Feature Extraction: 100%|███████████████████████████████████████████████████| 20/20 [00:04<00:00,  4.13it/s]\n"
     ]
    },
    {
     "name": "stdout",
     "output_type": "stream",
     "text": [
      "10006_fixations_and_saccades.csv\n"
     ]
    },
    {
     "name": "stderr",
     "output_type": "stream",
     "text": [
      "Feature Extraction: 100%|███████████████████████████████████████████████████| 20/20 [00:02<00:00,  7.34it/s]\n",
      "Feature Extraction: 100%|███████████████████████████████████████████████████| 20/20 [00:05<00:00,  3.79it/s]\n",
      "Feature Extraction: 100%|███████████████████████████████████████████████████| 20/20 [00:05<00:00,  3.85it/s]\n",
      "Feature Extraction: 100%|███████████████████████████████████████████████████| 20/20 [00:04<00:00,  4.44it/s]\n",
      "Feature Extraction: 100%|███████████████████████████████████████████████████| 20/20 [00:05<00:00,  3.81it/s]\n",
      "Feature Extraction: 100%|███████████████████████████████████████████████████| 20/20 [00:05<00:00,  3.68it/s]\n",
      "Feature Extraction: 100%|███████████████████████████████████████████████████| 20/20 [00:05<00:00,  3.73it/s]\n",
      "Feature Extraction: 100%|███████████████████████████████████████████████████| 20/20 [00:05<00:00,  3.84it/s]\n",
      "Feature Extraction: 100%|███████████████████████████████████████████████████| 20/20 [00:05<00:00,  3.71it/s]\n",
      "Feature Extraction: 100%|█████████████████████████████████████████████████| 20/20 [00:00<00:00, 1046.01it/s]\n",
      "Feature Extraction: 100%|█████████████████████████████████████████████████| 20/20 [00:00<00:00, 1230.00it/s]\n",
      "Feature Extraction: 100%|███████████████████████████████████████████████████| 20/20 [00:05<00:00,  3.75it/s]\n",
      "Feature Extraction: 100%|███████████████████████████████████████████████████| 20/20 [00:05<00:00,  3.72it/s]\n"
     ]
    },
    {
     "name": "stdout",
     "output_type": "stream",
     "text": [
      "10014_fixations_and_saccades.csv\n"
     ]
    },
    {
     "name": "stderr",
     "output_type": "stream",
     "text": [
      "Feature Extraction: 100%|███████████████████████████████████████████████████| 20/20 [00:02<00:00,  7.05it/s]\n",
      "Feature Extraction: 100%|███████████████████████████████████████████████████| 20/20 [00:05<00:00,  3.64it/s]\n",
      "Feature Extraction: 100%|███████████████████████████████████████████████████| 20/20 [00:05<00:00,  3.85it/s]\n",
      "Feature Extraction: 100%|███████████████████████████████████████████████████| 20/20 [00:04<00:00,  4.25it/s]\n",
      "Feature Extraction: 100%|███████████████████████████████████████████████████| 20/20 [00:05<00:00,  3.82it/s]\n",
      "Feature Extraction: 100%|███████████████████████████████████████████████████| 20/20 [00:05<00:00,  3.81it/s]\n",
      "Feature Extraction: 100%|███████████████████████████████████████████████████| 20/20 [00:05<00:00,  3.68it/s]\n",
      "Feature Extraction: 100%|███████████████████████████████████████████████████| 20/20 [00:05<00:00,  3.79it/s]\n",
      "Feature Extraction: 100%|███████████████████████████████████████████████████| 20/20 [00:05<00:00,  3.75it/s]\n",
      "Feature Extraction: 100%|█████████████████████████████████████████████████| 20/20 [00:00<00:00, 1127.20it/s]\n",
      "Feature Extraction: 100%|█████████████████████████████████████████████████| 20/20 [00:00<00:00, 1352.98it/s]\n",
      "Feature Extraction: 100%|███████████████████████████████████████████████████| 20/20 [00:05<00:00,  3.79it/s]\n",
      "Feature Extraction: 100%|███████████████████████████████████████████████████| 20/20 [00:05<00:00,  3.81it/s]\n"
     ]
    },
    {
     "name": "stdout",
     "output_type": "stream",
     "text": [
      "f10002_fixations_and_saccades.csv\n"
     ]
    },
    {
     "name": "stderr",
     "output_type": "stream",
     "text": [
      "Feature Extraction: 100%|███████████████████████████████████████████████████| 20/20 [00:02<00:00,  7.14it/s]\n",
      "Feature Extraction: 100%|███████████████████████████████████████████████████| 20/20 [00:04<00:00,  4.11it/s]\n",
      "Feature Extraction: 100%|███████████████████████████████████████████████████| 20/20 [00:04<00:00,  4.12it/s]\n",
      "Feature Extraction: 100%|███████████████████████████████████████████████████| 20/20 [00:04<00:00,  4.50it/s]\n",
      "Feature Extraction: 100%|███████████████████████████████████████████████████| 20/20 [00:04<00:00,  4.14it/s]\n",
      "Feature Extraction: 100%|███████████████████████████████████████████████████| 20/20 [00:04<00:00,  4.12it/s]\n",
      "Feature Extraction: 100%|███████████████████████████████████████████████████| 20/20 [00:04<00:00,  4.13it/s]\n",
      "Feature Extraction: 100%|███████████████████████████████████████████████████| 20/20 [00:04<00:00,  4.18it/s]\n",
      "Feature Extraction: 100%|███████████████████████████████████████████████████| 20/20 [00:04<00:00,  4.14it/s]\n",
      "Feature Extraction: 100%|██████████████████████████████████████████████████| 20/20 [00:00<00:00, 954.72it/s]\n",
      "Feature Extraction: 100%|█████████████████████████████████████████████████| 20/20 [00:00<00:00, 1031.53it/s]\n",
      "Feature Extraction: 100%|███████████████████████████████████████████████████| 20/20 [00:04<00:00,  4.14it/s]\n",
      "Feature Extraction: 100%|███████████████████████████████████████████████████| 20/20 [00:05<00:00,  3.98it/s]\n"
     ]
    },
    {
     "name": "stdout",
     "output_type": "stream",
     "text": [
      "f10081_fixations_and_saccades.csv\n"
     ]
    },
    {
     "name": "stderr",
     "output_type": "stream",
     "text": [
      "Feature Extraction: 100%|███████████████████████████████████████████████████| 20/20 [00:02<00:00,  7.26it/s]\n",
      "Feature Extraction: 100%|███████████████████████████████████████████████████| 20/20 [00:05<00:00,  3.74it/s]\n",
      "Feature Extraction: 100%|███████████████████████████████████████████████████| 20/20 [00:05<00:00,  3.76it/s]\n",
      "Feature Extraction: 100%|███████████████████████████████████████████████████| 20/20 [00:04<00:00,  4.84it/s]\n",
      "Feature Extraction: 100%|███████████████████████████████████████████████████| 20/20 [00:05<00:00,  3.75it/s]\n",
      "Feature Extraction: 100%|███████████████████████████████████████████████████| 20/20 [00:05<00:00,  3.70it/s]\n",
      "Feature Extraction: 100%|███████████████████████████████████████████████████| 20/20 [00:05<00:00,  3.72it/s]\n",
      "Feature Extraction: 100%|███████████████████████████████████████████████████| 20/20 [00:05<00:00,  3.78it/s]\n",
      "Feature Extraction: 100%|███████████████████████████████████████████████████| 20/20 [00:05<00:00,  3.80it/s]\n",
      "Feature Extraction: 100%|█████████████████████████████████████████████████| 20/20 [00:00<00:00, 1065.86it/s]\n",
      "Feature Extraction: 100%|█████████████████████████████████████████████████| 20/20 [00:00<00:00, 1171.36it/s]\n",
      "Feature Extraction: 100%|███████████████████████████████████████████████████| 20/20 [00:05<00:00,  3.80it/s]\n",
      "Feature Extraction: 100%|███████████████████████████████████████████████████| 20/20 [00:05<00:00,  3.76it/s]\n"
     ]
    },
    {
     "name": "stdout",
     "output_type": "stream",
     "text": [
      "f10004_fixations_and_saccades.csv\n"
     ]
    },
    {
     "name": "stderr",
     "output_type": "stream",
     "text": [
      "Feature Extraction: 100%|███████████████████████████████████████████████████| 20/20 [00:02<00:00,  9.81it/s]\n",
      "Feature Extraction: 100%|███████████████████████████████████████████████████| 20/20 [00:03<00:00,  6.12it/s]\n",
      "Feature Extraction: 100%|███████████████████████████████████████████████████| 20/20 [00:03<00:00,  6.31it/s]\n",
      "Feature Extraction: 100%|███████████████████████████████████████████████████| 20/20 [00:02<00:00,  7.50it/s]\n",
      "Feature Extraction: 100%|███████████████████████████████████████████████████| 20/20 [00:03<00:00,  6.07it/s]\n",
      "Feature Extraction: 100%|███████████████████████████████████████████████████| 20/20 [00:03<00:00,  6.33it/s]\n",
      "Feature Extraction: 100%|███████████████████████████████████████████████████| 20/20 [00:03<00:00,  6.18it/s]\n",
      "Feature Extraction: 100%|███████████████████████████████████████████████████| 20/20 [00:03<00:00,  6.18it/s]\n",
      "Feature Extraction: 100%|███████████████████████████████████████████████████| 20/20 [00:03<00:00,  6.34it/s]\n",
      "Feature Extraction: 100%|█████████████████████████████████████████████████| 20/20 [00:00<00:00, 1967.08it/s]\n",
      "Feature Extraction: 100%|█████████████████████████████████████████████████| 20/20 [00:00<00:00, 1719.12it/s]\n",
      "Feature Extraction: 100%|███████████████████████████████████████████████████| 20/20 [00:03<00:00,  6.21it/s]\n",
      "Feature Extraction: 100%|███████████████████████████████████████████████████| 20/20 [00:03<00:00,  6.40it/s]\n"
     ]
    },
    {
     "name": "stdout",
     "output_type": "stream",
     "text": [
      "10008_fixations_and_saccades.csv\n"
     ]
    },
    {
     "name": "stderr",
     "output_type": "stream",
     "text": [
      "Feature Extraction: 100%|███████████████████████████████████████████████████| 20/20 [00:02<00:00,  8.68it/s]\n",
      "Feature Extraction: 100%|███████████████████████████████████████████████████| 20/20 [00:03<00:00,  6.19it/s]\n",
      "Feature Extraction: 100%|███████████████████████████████████████████████████| 20/20 [00:03<00:00,  6.24it/s]\n",
      "Feature Extraction: 100%|███████████████████████████████████████████████████| 20/20 [00:02<00:00,  7.00it/s]\n",
      "Feature Extraction: 100%|███████████████████████████████████████████████████| 20/20 [00:03<00:00,  6.43it/s]\n",
      "Feature Extraction: 100%|███████████████████████████████████████████████████| 20/20 [00:03<00:00,  5.97it/s]\n",
      "Feature Extraction: 100%|███████████████████████████████████████████████████| 20/20 [00:03<00:00,  6.36it/s]\n",
      "Feature Extraction: 100%|███████████████████████████████████████████████████| 20/20 [00:03<00:00,  6.27it/s]\n",
      "Feature Extraction: 100%|███████████████████████████████████████████████████| 20/20 [00:03<00:00,  6.03it/s]\n",
      "Feature Extraction: 100%|██████████████████████████████████████████████████| 20/20 [00:00<00:00, 894.66it/s]\n",
      "Feature Extraction: 100%|█████████████████████████████████████████████████| 20/20 [00:00<00:00, 1168.30it/s]\n",
      "Feature Extraction: 100%|███████████████████████████████████████████████████| 20/20 [00:03<00:00,  6.31it/s]\n",
      "Feature Extraction: 100%|███████████████████████████████████████████████████| 20/20 [00:03<00:00,  6.43it/s]\n"
     ]
    },
    {
     "name": "stdout",
     "output_type": "stream",
     "text": [
      "f10061_fixations_and_saccades.csv\n"
     ]
    },
    {
     "name": "stderr",
     "output_type": "stream",
     "text": [
      "Feature Extraction: 100%|███████████████████████████████████████████████████| 20/20 [00:03<00:00,  5.86it/s]\n",
      "Feature Extraction: 100%|███████████████████████████████████████████████████| 20/20 [00:04<00:00,  4.04it/s]\n",
      "Feature Extraction: 100%|███████████████████████████████████████████████████| 20/20 [00:04<00:00,  4.07it/s]\n",
      "Feature Extraction: 100%|███████████████████████████████████████████████████| 20/20 [00:04<00:00,  4.82it/s]\n",
      "Feature Extraction: 100%|███████████████████████████████████████████████████| 20/20 [00:05<00:00,  3.98it/s]\n",
      "Feature Extraction: 100%|███████████████████████████████████████████████████| 20/20 [00:04<00:00,  4.12it/s]\n",
      "Feature Extraction: 100%|███████████████████████████████████████████████████| 20/20 [00:04<00:00,  4.13it/s]\n",
      "Feature Extraction: 100%|███████████████████████████████████████████████████| 20/20 [00:04<00:00,  4.06it/s]\n",
      "Feature Extraction: 100%|███████████████████████████████████████████████████| 20/20 [00:05<00:00,  4.00it/s]\n",
      "Feature Extraction: 100%|██████████████████████████████████████████████████| 20/20 [00:00<00:00, 941.93it/s]\n",
      "Feature Extraction: 100%|█████████████████████████████████████████████████| 20/20 [00:00<00:00, 1401.86it/s]\n",
      "Feature Extraction: 100%|███████████████████████████████████████████████████| 20/20 [00:04<00:00,  4.03it/s]\n",
      "Feature Extraction: 100%|███████████████████████████████████████████████████| 20/20 [00:04<00:00,  4.10it/s]\n"
     ]
    },
    {
     "name": "stdout",
     "output_type": "stream",
     "text": [
      "f10007_fixations_and_saccades.csv\n"
     ]
    },
    {
     "name": "stderr",
     "output_type": "stream",
     "text": [
      "Feature Extraction: 100%|███████████████████████████████████████████████████| 20/20 [00:03<00:00,  6.09it/s]\n",
      "Feature Extraction: 100%|███████████████████████████████████████████████████| 20/20 [00:05<00:00,  3.70it/s]\n",
      "Feature Extraction: 100%|███████████████████████████████████████████████████| 20/20 [00:05<00:00,  3.73it/s]\n",
      "Feature Extraction: 100%|███████████████████████████████████████████████████| 20/20 [00:04<00:00,  4.66it/s]\n",
      "Feature Extraction: 100%|███████████████████████████████████████████████████| 20/20 [00:05<00:00,  3.78it/s]\n",
      "Feature Extraction: 100%|███████████████████████████████████████████████████| 20/20 [00:05<00:00,  3.88it/s]\n",
      "Feature Extraction: 100%|███████████████████████████████████████████████████| 20/20 [00:05<00:00,  3.85it/s]\n",
      "Feature Extraction: 100%|███████████████████████████████████████████████████| 20/20 [00:05<00:00,  3.75it/s]\n",
      "Feature Extraction: 100%|███████████████████████████████████████████████████| 20/20 [00:05<00:00,  3.81it/s]\n",
      "Feature Extraction: 100%|█████████████████████████████████████████████████| 20/20 [00:00<00:00, 1019.48it/s]\n",
      "Feature Extraction: 100%|██████████████████████████████████████████████████| 20/20 [00:00<00:00, 974.32it/s]\n",
      "Feature Extraction: 100%|███████████████████████████████████████████████████| 20/20 [00:05<00:00,  3.66it/s]\n",
      "Feature Extraction: 100%|███████████████████████████████████████████████████| 20/20 [00:05<00:00,  3.67it/s]\n"
     ]
    },
    {
     "name": "stdout",
     "output_type": "stream",
     "text": [
      "10017_fixations_and_saccades.csv\n"
     ]
    },
    {
     "name": "stderr",
     "output_type": "stream",
     "text": [
      "Feature Extraction: 100%|███████████████████████████████████████████████████| 20/20 [00:02<00:00,  9.45it/s]\n",
      "Feature Extraction: 100%|███████████████████████████████████████████████████| 20/20 [00:03<00:00,  5.25it/s]\n",
      "Feature Extraction: 100%|███████████████████████████████████████████████████| 20/20 [00:03<00:00,  5.57it/s]\n",
      "Feature Extraction: 100%|███████████████████████████████████████████████████| 20/20 [00:02<00:00,  7.01it/s]\n",
      "Feature Extraction: 100%|███████████████████████████████████████████████████| 20/20 [00:03<00:00,  6.24it/s]\n",
      "Feature Extraction: 100%|███████████████████████████████████████████████████| 20/20 [00:03<00:00,  6.51it/s]\n",
      "Feature Extraction: 100%|███████████████████████████████████████████████████| 20/20 [00:03<00:00,  6.44it/s]\n",
      "Feature Extraction: 100%|███████████████████████████████████████████████████| 20/20 [00:03<00:00,  6.32it/s]\n",
      "Feature Extraction: 100%|███████████████████████████████████████████████████| 20/20 [00:03<00:00,  6.25it/s]\n",
      "Feature Extraction: 100%|█████████████████████████████████████████████████| 20/20 [00:00<00:00, 1139.93it/s]\n",
      "Feature Extraction: 100%|█████████████████████████████████████████████████| 20/20 [00:00<00:00, 1508.77it/s]\n",
      "Feature Extraction: 100%|███████████████████████████████████████████████████| 20/20 [00:03<00:00,  6.43it/s]\n",
      "Feature Extraction: 100%|███████████████████████████████████████████████████| 20/20 [00:03<00:00,  6.40it/s]\n"
     ]
    },
    {
     "name": "stdout",
     "output_type": "stream",
     "text": [
      "f10041_fixations_and_saccades.csv\n"
     ]
    },
    {
     "name": "stderr",
     "output_type": "stream",
     "text": [
      "Feature Extraction: 100%|███████████████████████████████████████████████████| 20/20 [00:03<00:00,  6.63it/s]\n",
      "Feature Extraction: 100%|███████████████████████████████████████████████████| 20/20 [00:05<00:00,  3.74it/s]\n",
      "Feature Extraction: 100%|███████████████████████████████████████████████████| 20/20 [00:05<00:00,  3.67it/s]\n",
      "Feature Extraction: 100%|███████████████████████████████████████████████████| 20/20 [00:05<00:00,  3.92it/s]\n",
      "Feature Extraction: 100%|███████████████████████████████████████████████████| 20/20 [00:05<00:00,  3.66it/s]\n",
      "Feature Extraction: 100%|███████████████████████████████████████████████████| 20/20 [00:05<00:00,  3.36it/s]\n",
      "Feature Extraction: 100%|███████████████████████████████████████████████████| 20/20 [00:06<00:00,  3.33it/s]\n",
      "Feature Extraction: 100%|███████████████████████████████████████████████████| 20/20 [00:06<00:00,  3.26it/s]\n",
      "Feature Extraction: 100%|███████████████████████████████████████████████████| 20/20 [00:06<00:00,  2.91it/s]\n",
      "Feature Extraction: 100%|█████████████████████████████████████████████████| 20/20 [00:00<00:00, 1062.09it/s]\n",
      "Feature Extraction: 100%|██████████████████████████████████████████████████| 20/20 [00:00<00:00, 705.66it/s]\n",
      "Feature Extraction: 100%|███████████████████████████████████████████████████| 20/20 [00:06<00:00,  3.10it/s]\n",
      "Feature Extraction: 100%|███████████████████████████████████████████████████| 20/20 [00:07<00:00,  2.85it/s]\n"
     ]
    },
    {
     "name": "stdout",
     "output_type": "stream",
     "text": [
      "10002_fixations_and_saccades.csv\n"
     ]
    },
    {
     "name": "stderr",
     "output_type": "stream",
     "text": [
      "Feature Extraction: 100%|███████████████████████████████████████████████████| 20/20 [00:00<00:00, 73.61it/s]\n",
      "Feature Extraction: 100%|███████████████████████████████████████████████████| 20/20 [00:00<00:00, 83.05it/s]\n",
      "Feature Extraction: 100%|███████████████████████████████████████████████████| 20/20 [00:00<00:00, 77.21it/s]\n",
      "Feature Extraction: 100%|███████████████████████████████████████████████████| 20/20 [00:00<00:00, 96.90it/s]\n",
      "Feature Extraction: 100%|███████████████████████████████████████████████████| 20/20 [00:00<00:00, 67.53it/s]\n",
      "Feature Extraction: 100%|███████████████████████████████████████████████████| 20/20 [00:00<00:00, 82.91it/s]\n",
      "Feature Extraction: 100%|███████████████████████████████████████████████████| 20/20 [00:00<00:00, 69.61it/s]\n",
      "Feature Extraction: 100%|███████████████████████████████████████████████████| 20/20 [00:00<00:00, 62.06it/s]\n",
      "Feature Extraction: 100%|███████████████████████████████████████████████████| 20/20 [00:00<00:00, 50.92it/s]\n",
      "Feature Extraction: 100%|██████████████████████████████████████████████████| 20/20 [00:00<00:00, 662.93it/s]\n",
      "Feature Extraction: 100%|█████████████████████████████████████████████████| 20/20 [00:00<00:00, 3823.43it/s]\n",
      "Feature Extraction: 100%|███████████████████████████████████████████████████| 20/20 [00:00<00:00, 50.83it/s]\n",
      "Feature Extraction: 100%|███████████████████████████████████████████████████| 20/20 [00:00<00:00, 80.81it/s]\n"
     ]
    },
    {
     "name": "stdout",
     "output_type": "stream",
     "text": [
      "f10006_fixations_and_saccades.csv\n"
     ]
    },
    {
     "name": "stderr",
     "output_type": "stream",
     "text": [
      "Feature Extraction: 100%|███████████████████████████████████████████████████| 20/20 [00:03<00:00,  5.57it/s]\n",
      "Feature Extraction: 100%|███████████████████████████████████████████████████| 20/20 [00:05<00:00,  3.46it/s]\n",
      "Feature Extraction: 100%|███████████████████████████████████████████████████| 20/20 [00:05<00:00,  3.39it/s]\n",
      "Feature Extraction: 100%|███████████████████████████████████████████████████| 20/20 [00:06<00:00,  2.96it/s]\n",
      "Feature Extraction: 100%|███████████████████████████████████████████████████| 20/20 [00:06<00:00,  3.12it/s]\n",
      "Feature Extraction: 100%|███████████████████████████████████████████████████| 20/20 [00:06<00:00,  3.09it/s]\n",
      "Feature Extraction: 100%|███████████████████████████████████████████████████| 20/20 [00:06<00:00,  3.32it/s]\n",
      "Feature Extraction: 100%|███████████████████████████████████████████████████| 20/20 [00:05<00:00,  3.40it/s]\n",
      "Feature Extraction: 100%|███████████████████████████████████████████████████| 20/20 [00:05<00:00,  3.47it/s]\n",
      "Feature Extraction: 100%|██████████████████████████████████████████████████| 20/20 [00:00<00:00, 815.66it/s]\n",
      "Feature Extraction: 100%|█████████████████████████████████████████████████| 20/20 [00:00<00:00, 1021.24it/s]\n",
      "Feature Extraction: 100%|███████████████████████████████████████████████████| 20/20 [00:05<00:00,  3.57it/s]\n",
      "Feature Extraction: 100%|███████████████████████████████████████████████████| 20/20 [00:06<00:00,  3.28it/s]\n"
     ]
    },
    {
     "name": "stdout",
     "output_type": "stream",
     "text": [
      "10020_fixations_and_saccades.csv\n"
     ]
    },
    {
     "name": "stderr",
     "output_type": "stream",
     "text": [
      "Feature Extraction: 100%|███████████████████████████████████████████████████| 20/20 [00:02<00:00,  7.00it/s]\n",
      "Feature Extraction: 100%|███████████████████████████████████████████████████| 20/20 [00:04<00:00,  4.06it/s]\n",
      "Feature Extraction: 100%|███████████████████████████████████████████████████| 20/20 [00:04<00:00,  4.13it/s]\n",
      "Feature Extraction: 100%|███████████████████████████████████████████████████| 20/20 [00:03<00:00,  5.31it/s]\n",
      "Feature Extraction: 100%|███████████████████████████████████████████████████| 20/20 [00:04<00:00,  4.07it/s]\n",
      "Feature Extraction: 100%|███████████████████████████████████████████████████| 20/20 [00:05<00:00,  3.87it/s]\n",
      "Feature Extraction: 100%|███████████████████████████████████████████████████| 20/20 [00:04<00:00,  4.02it/s]\n",
      "Feature Extraction: 100%|███████████████████████████████████████████████████| 20/20 [00:05<00:00,  3.88it/s]\n",
      "Feature Extraction: 100%|███████████████████████████████████████████████████| 20/20 [00:04<00:00,  4.14it/s]\n",
      "Feature Extraction: 100%|█████████████████████████████████████████████████| 20/20 [00:00<00:00, 1446.36it/s]\n",
      "Feature Extraction: 100%|██████████████████████████████████████████████████| 20/20 [00:00<00:00, 645.61it/s]\n",
      "Feature Extraction: 100%|███████████████████████████████████████████████████| 20/20 [00:05<00:00,  3.85it/s]\n",
      "Feature Extraction: 100%|███████████████████████████████████████████████████| 20/20 [00:05<00:00,  3.56it/s]\n"
     ]
    },
    {
     "name": "stdout",
     "output_type": "stream",
     "text": [
      "10011_fixations_and_saccades.csv\n"
     ]
    },
    {
     "name": "stderr",
     "output_type": "stream",
     "text": [
      "Feature Extraction: 100%|███████████████████████████████████████████████████| 20/20 [00:02<00:00,  8.04it/s]\n",
      "Feature Extraction: 100%|███████████████████████████████████████████████████| 20/20 [00:04<00:00,  4.91it/s]\n",
      "Feature Extraction: 100%|███████████████████████████████████████████████████| 20/20 [00:03<00:00,  5.12it/s]\n",
      "Feature Extraction: 100%|███████████████████████████████████████████████████| 20/20 [00:03<00:00,  5.64it/s]\n",
      "Feature Extraction: 100%|███████████████████████████████████████████████████| 20/20 [00:03<00:00,  5.34it/s]\n",
      "Feature Extraction: 100%|███████████████████████████████████████████████████| 20/20 [00:03<00:00,  5.15it/s]\n",
      "Feature Extraction: 100%|███████████████████████████████████████████████████| 20/20 [00:03<00:00,  5.14it/s]\n",
      "Feature Extraction: 100%|███████████████████████████████████████████████████| 20/20 [00:03<00:00,  5.25it/s]\n",
      "Feature Extraction: 100%|███████████████████████████████████████████████████| 20/20 [00:04<00:00,  4.98it/s]\n",
      "Feature Extraction: 100%|██████████████████████████████████████████████████| 20/20 [00:00<00:00, 830.72it/s]\n",
      "Feature Extraction: 100%|█████████████████████████████████████████████████| 20/20 [00:00<00:00, 1805.79it/s]\n",
      "Feature Extraction: 100%|███████████████████████████████████████████████████| 20/20 [00:04<00:00,  4.91it/s]\n",
      "Feature Extraction: 100%|███████████████████████████████████████████████████| 20/20 [00:04<00:00,  4.56it/s]\n"
     ]
    },
    {
     "name": "stdout",
     "output_type": "stream",
     "text": [
      "f10003_fixations_and_saccades.csv\n"
     ]
    },
    {
     "name": "stderr",
     "output_type": "stream",
     "text": [
      "Feature Extraction: 100%|███████████████████████████████████████████████████| 20/20 [00:03<00:00,  5.71it/s]\n",
      "Feature Extraction: 100%|███████████████████████████████████████████████████| 20/20 [00:05<00:00,  3.46it/s]\n",
      "Feature Extraction: 100%|███████████████████████████████████████████████████| 20/20 [00:05<00:00,  3.60it/s]\n",
      "Feature Extraction: 100%|███████████████████████████████████████████████████| 20/20 [00:04<00:00,  4.17it/s]\n",
      "Feature Extraction: 100%|███████████████████████████████████████████████████| 20/20 [00:05<00:00,  3.44it/s]\n",
      "Feature Extraction: 100%|███████████████████████████████████████████████████| 20/20 [00:05<00:00,  3.47it/s]\n",
      "Feature Extraction: 100%|███████████████████████████████████████████████████| 20/20 [00:05<00:00,  3.70it/s]\n",
      "Feature Extraction: 100%|███████████████████████████████████████████████████| 20/20 [00:05<00:00,  3.50it/s]\n",
      "Feature Extraction: 100%|███████████████████████████████████████████████████| 20/20 [00:05<00:00,  3.60it/s]\n",
      "Feature Extraction: 100%|█████████████████████████████████████████████████| 20/20 [00:00<00:00, 1158.87it/s]\n",
      "Feature Extraction: 100%|██████████████████████████████████████████████████| 20/20 [00:00<00:00, 869.00it/s]\n",
      "Feature Extraction: 100%|███████████████████████████████████████████████████| 20/20 [00:05<00:00,  3.56it/s]\n",
      "Feature Extraction: 100%|███████████████████████████████████████████████████| 20/20 [00:05<00:00,  3.65it/s]\n"
     ]
    },
    {
     "name": "stdout",
     "output_type": "stream",
     "text": [
      "f10008_10009_fixations_and_saccades.csv\n"
     ]
    },
    {
     "name": "stderr",
     "output_type": "stream",
     "text": [
      "Feature Extraction: 100%|███████████████████████████████████████████████████| 20/20 [00:02<00:00,  8.14it/s]\n",
      "Feature Extraction: 100%|███████████████████████████████████████████████████| 20/20 [00:03<00:00,  5.22it/s]\n",
      "Feature Extraction: 100%|███████████████████████████████████████████████████| 20/20 [00:03<00:00,  5.04it/s]\n",
      "Feature Extraction: 100%|███████████████████████████████████████████████████| 20/20 [00:03<00:00,  5.76it/s]\n",
      "Feature Extraction: 100%|███████████████████████████████████████████████████| 20/20 [00:03<00:00,  5.10it/s]\n",
      "Feature Extraction: 100%|███████████████████████████████████████████████████| 20/20 [00:03<00:00,  5.03it/s]\n",
      "Feature Extraction: 100%|███████████████████████████████████████████████████| 20/20 [00:04<00:00,  4.93it/s]\n",
      "Feature Extraction: 100%|███████████████████████████████████████████████████| 20/20 [00:03<00:00,  5.03it/s]\n",
      "Feature Extraction: 100%|███████████████████████████████████████████████████| 20/20 [00:04<00:00,  4.87it/s]\n",
      "Feature Extraction: 100%|██████████████████████████████████████████████████| 20/20 [00:00<00:00, 968.11it/s]\n",
      "Feature Extraction: 100%|██████████████████████████████████████████████████| 20/20 [00:00<00:00, 828.26it/s]\n",
      "Feature Extraction: 100%|███████████████████████████████████████████████████| 20/20 [00:04<00:00,  4.95it/s]\n",
      "Feature Extraction: 100%|███████████████████████████████████████████████████| 20/20 [00:03<00:00,  5.19it/s]\n"
     ]
    },
    {
     "name": "stdout",
     "output_type": "stream",
     "text": [
      "f10001_fixations_and_saccades.csv\n"
     ]
    },
    {
     "name": "stderr",
     "output_type": "stream",
     "text": [
      "Feature Extraction: 100%|███████████████████████████████████████████████████| 20/20 [00:03<00:00,  6.60it/s]\n",
      "Feature Extraction: 100%|███████████████████████████████████████████████████| 20/20 [00:05<00:00,  3.61it/s]\n",
      "Feature Extraction: 100%|███████████████████████████████████████████████████| 20/20 [00:05<00:00,  3.55it/s]\n",
      "Feature Extraction: 100%|███████████████████████████████████████████████████| 20/20 [00:04<00:00,  4.00it/s]\n",
      "Feature Extraction: 100%|███████████████████████████████████████████████████| 20/20 [00:05<00:00,  3.48it/s]\n",
      "Feature Extraction: 100%|███████████████████████████████████████████████████| 20/20 [00:05<00:00,  3.49it/s]\n",
      "Feature Extraction: 100%|███████████████████████████████████████████████████| 20/20 [00:05<00:00,  3.45it/s]\n",
      "Feature Extraction: 100%|███████████████████████████████████████████████████| 20/20 [00:05<00:00,  3.38it/s]\n",
      "Feature Extraction: 100%|███████████████████████████████████████████████████| 20/20 [00:05<00:00,  3.64it/s]\n",
      "Feature Extraction: 100%|██████████████████████████████████████████████████| 20/20 [00:00<00:00, 672.58it/s]\n",
      "Feature Extraction: 100%|█████████████████████████████████████████████████| 20/20 [00:00<00:00, 1138.40it/s]\n",
      "Feature Extraction: 100%|███████████████████████████████████████████████████| 20/20 [00:05<00:00,  3.38it/s]\n",
      "Feature Extraction: 100%|███████████████████████████████████████████████████| 20/20 [00:05<00:00,  3.49it/s]\n"
     ]
    },
    {
     "name": "stdout",
     "output_type": "stream",
     "text": [
      "10018_fixations_and_saccades.csv\n"
     ]
    },
    {
     "name": "stderr",
     "output_type": "stream",
     "text": [
      "Feature Extraction: 100%|███████████████████████████████████████████████████| 20/20 [00:03<00:00,  5.48it/s]\n",
      "Feature Extraction: 100%|███████████████████████████████████████████████████| 20/20 [00:05<00:00,  3.42it/s]\n",
      "Feature Extraction: 100%|███████████████████████████████████████████████████| 20/20 [00:05<00:00,  3.55it/s]\n",
      "Feature Extraction: 100%|███████████████████████████████████████████████████| 20/20 [00:04<00:00,  4.68it/s]\n",
      "Feature Extraction: 100%|███████████████████████████████████████████████████| 20/20 [00:05<00:00,  3.72it/s]\n",
      "Feature Extraction: 100%|███████████████████████████████████████████████████| 20/20 [00:06<00:00,  3.26it/s]\n",
      "Feature Extraction: 100%|███████████████████████████████████████████████████| 20/20 [00:05<00:00,  3.61it/s]\n",
      "Feature Extraction: 100%|███████████████████████████████████████████████████| 20/20 [00:05<00:00,  3.98it/s]\n",
      "Feature Extraction: 100%|███████████████████████████████████████████████████| 20/20 [00:05<00:00,  3.52it/s]\n",
      "Feature Extraction: 100%|██████████████████████████████████████████████████| 20/20 [00:00<00:00, 937.53it/s]\n",
      "Feature Extraction: 100%|██████████████████████████████████████████████████| 20/20 [00:00<00:00, 378.18it/s]\n",
      "Feature Extraction: 100%|███████████████████████████████████████████████████| 20/20 [00:06<00:00,  3.23it/s]\n",
      "Feature Extraction: 100%|███████████████████████████████████████████████████| 20/20 [00:05<00:00,  3.96it/s]\n"
     ]
    },
    {
     "name": "stdout",
     "output_type": "stream",
     "text": [
      "10013_fixations_and_saccades.csv\n"
     ]
    },
    {
     "name": "stderr",
     "output_type": "stream",
     "text": [
      "Feature Extraction: 100%|███████████████████████████████████████████████████| 20/20 [00:03<00:00,  6.50it/s]\n",
      "Feature Extraction: 100%|███████████████████████████████████████████████████| 20/20 [00:05<00:00,  3.60it/s]\n",
      "Feature Extraction: 100%|███████████████████████████████████████████████████| 20/20 [00:05<00:00,  3.57it/s]\n",
      "Feature Extraction: 100%|███████████████████████████████████████████████████| 20/20 [00:04<00:00,  4.52it/s]\n",
      "Feature Extraction: 100%|███████████████████████████████████████████████████| 20/20 [00:05<00:00,  3.52it/s]\n",
      "Feature Extraction: 100%|███████████████████████████████████████████████████| 20/20 [00:05<00:00,  3.47it/s]\n",
      "Feature Extraction: 100%|███████████████████████████████████████████████████| 20/20 [00:06<00:00,  2.98it/s]\n",
      "Feature Extraction: 100%|███████████████████████████████████████████████████| 20/20 [00:05<00:00,  3.51it/s]\n",
      "Feature Extraction: 100%|███████████████████████████████████████████████████| 20/20 [00:05<00:00,  3.72it/s]\n",
      "Feature Extraction: 100%|██████████████████████████████████████████████████| 20/20 [00:00<00:00, 712.08it/s]\n",
      "Feature Extraction: 100%|██████████████████████████████████████████████████| 20/20 [00:00<00:00, 628.25it/s]\n",
      "Feature Extraction: 100%|███████████████████████████████████████████████████| 20/20 [00:05<00:00,  3.74it/s]\n",
      "Feature Extraction: 100%|███████████████████████████████████████████████████| 20/20 [00:05<00:00,  3.34it/s]\n"
     ]
    },
    {
     "name": "stdout",
     "output_type": "stream",
     "text": [
      "f10005_fixations_and_saccades.csv\n"
     ]
    },
    {
     "name": "stderr",
     "output_type": "stream",
     "text": [
      "Feature Extraction: 100%|███████████████████████████████████████████████████| 20/20 [00:02<00:00,  8.14it/s]\n",
      "Feature Extraction: 100%|███████████████████████████████████████████████████| 20/20 [00:03<00:00,  5.84it/s]\n",
      "Feature Extraction: 100%|███████████████████████████████████████████████████| 20/20 [00:03<00:00,  6.01it/s]\n",
      "Feature Extraction: 100%|███████████████████████████████████████████████████| 20/20 [00:02<00:00,  6.74it/s]\n",
      "Feature Extraction: 100%|███████████████████████████████████████████████████| 20/20 [00:03<00:00,  6.01it/s]\n",
      "Feature Extraction: 100%|███████████████████████████████████████████████████| 20/20 [00:04<00:00,  4.51it/s]\n",
      "Feature Extraction: 100%|███████████████████████████████████████████████████| 20/20 [00:04<00:00,  4.72it/s]\n",
      "Feature Extraction: 100%|███████████████████████████████████████████████████| 20/20 [00:03<00:00,  5.54it/s]\n",
      "Feature Extraction: 100%|███████████████████████████████████████████████████| 20/20 [00:03<00:00,  6.17it/s]\n",
      "Feature Extraction: 100%|██████████████████████████████████████████████████| 20/20 [00:00<00:00, 978.39it/s]\n",
      "Feature Extraction: 100%|██████████████████████████████████████████████████| 20/20 [00:00<00:00, 837.25it/s]\n",
      "Feature Extraction: 100%|███████████████████████████████████████████████████| 20/20 [00:03<00:00,  6.01it/s]\n",
      "Feature Extraction: 100%|███████████████████████████████████████████████████| 20/20 [00:03<00:00,  5.82it/s]\n"
     ]
    },
    {
     "name": "stdout",
     "output_type": "stream",
     "text": [
      "10015_fixations_and_saccades.csv\n"
     ]
    },
    {
     "name": "stderr",
     "output_type": "stream",
     "text": [
      "Feature Extraction: 100%|███████████████████████████████████████████████████| 20/20 [00:02<00:00,  8.83it/s]\n",
      "Feature Extraction: 100%|███████████████████████████████████████████████████| 20/20 [00:05<00:00,  3.54it/s]\n",
      "Feature Extraction: 100%|███████████████████████████████████████████████████| 20/20 [00:06<00:00,  2.89it/s]\n",
      "Feature Extraction: 100%|███████████████████████████████████████████████████| 20/20 [00:04<00:00,  4.06it/s]\n",
      "Feature Extraction: 100%|███████████████████████████████████████████████████| 20/20 [00:05<00:00,  3.54it/s]\n",
      "Feature Extraction: 100%|███████████████████████████████████████████████████| 20/20 [00:05<00:00,  3.62it/s]\n",
      "Feature Extraction: 100%|███████████████████████████████████████████████████| 20/20 [00:05<00:00,  3.50it/s]\n",
      "Feature Extraction: 100%|███████████████████████████████████████████████████| 20/20 [00:05<00:00,  3.39it/s]\n",
      "Feature Extraction: 100%|███████████████████████████████████████████████████| 20/20 [00:05<00:00,  3.56it/s]\n",
      "Feature Extraction: 100%|██████████████████████████████████████████████████| 20/20 [00:00<00:00, 888.73it/s]\n",
      "Feature Extraction: 100%|██████████████████████████████████████████████████| 20/20 [00:00<00:00, 952.22it/s]\n",
      "Feature Extraction: 100%|███████████████████████████████████████████████████| 20/20 [00:05<00:00,  3.53it/s]\n",
      "Feature Extraction: 100%|███████████████████████████████████████████████████| 20/20 [00:06<00:00,  2.98it/s]\n"
     ]
    },
    {
     "name": "stdout",
     "output_type": "stream",
     "text": [
      "f10071_fixations_and_saccades.csv\n"
     ]
    },
    {
     "name": "stderr",
     "output_type": "stream",
     "text": [
      "Feature Extraction: 100%|███████████████████████████████████████████████████| 20/20 [00:03<00:00,  6.60it/s]\n",
      "Feature Extraction: 100%|███████████████████████████████████████████████████| 20/20 [00:05<00:00,  3.60it/s]\n",
      "Feature Extraction: 100%|███████████████████████████████████████████████████| 20/20 [00:06<00:00,  3.26it/s]\n",
      "Feature Extraction: 100%|███████████████████████████████████████████████████| 20/20 [00:04<00:00,  4.07it/s]\n",
      "Feature Extraction: 100%|███████████████████████████████████████████████████| 20/20 [00:05<00:00,  3.67it/s]\n",
      "Feature Extraction: 100%|███████████████████████████████████████████████████| 20/20 [00:05<00:00,  3.66it/s]\n",
      "Feature Extraction: 100%|███████████████████████████████████████████████████| 20/20 [00:05<00:00,  3.59it/s]\n",
      "Feature Extraction: 100%|███████████████████████████████████████████████████| 20/20 [00:05<00:00,  3.40it/s]\n",
      "Feature Extraction: 100%|███████████████████████████████████████████████████| 20/20 [00:06<00:00,  3.10it/s]\n",
      "Feature Extraction: 100%|█████████████████████████████████████████████████| 20/20 [00:00<00:00, 1052.09it/s]\n",
      "Feature Extraction: 100%|█████████████████████████████████████████████████| 20/20 [00:00<00:00, 1022.66it/s]\n",
      "Feature Extraction: 100%|███████████████████████████████████████████████████| 20/20 [00:06<00:00,  3.13it/s]\n",
      "Feature Extraction: 100%|███████████████████████████████████████████████████| 20/20 [00:06<00:00,  3.22it/s]\n"
     ]
    },
    {
     "name": "stdout",
     "output_type": "stream",
     "text": [
      "10012_fixations_and_saccades.csv\n"
     ]
    },
    {
     "name": "stderr",
     "output_type": "stream",
     "text": [
      "Feature Extraction: 100%|███████████████████████████████████████████████████| 20/20 [00:03<00:00,  5.43it/s]\n",
      "Feature Extraction: 100%|███████████████████████████████████████████████████| 20/20 [00:05<00:00,  3.44it/s]\n",
      "Feature Extraction: 100%|███████████████████████████████████████████████████| 20/20 [00:05<00:00,  3.54it/s]\n",
      "Feature Extraction: 100%|███████████████████████████████████████████████████| 20/20 [00:04<00:00,  4.26it/s]\n",
      "Feature Extraction: 100%|███████████████████████████████████████████████████| 20/20 [00:05<00:00,  3.78it/s]\n",
      "Feature Extraction: 100%|███████████████████████████████████████████████████| 20/20 [00:05<00:00,  3.76it/s]\n",
      "Feature Extraction: 100%|███████████████████████████████████████████████████| 20/20 [00:05<00:00,  3.76it/s]\n",
      "Feature Extraction: 100%|███████████████████████████████████████████████████| 20/20 [00:05<00:00,  3.86it/s]\n",
      "Feature Extraction: 100%|███████████████████████████████████████████████████| 20/20 [00:05<00:00,  3.85it/s]\n",
      "Feature Extraction: 100%|█████████████████████████████████████████████████| 20/20 [00:00<00:00, 1142.43it/s]\n",
      "Feature Extraction: 100%|██████████████████████████████████████████████████| 20/20 [00:00<00:00, 937.30it/s]\n",
      "Feature Extraction: 100%|███████████████████████████████████████████████████| 20/20 [00:05<00:00,  3.79it/s]\n",
      "Feature Extraction: 100%|███████████████████████████████████████████████████| 20/20 [00:05<00:00,  3.80it/s]\n"
     ]
    }
   ],
   "source": [
    "all_data = []\n",
    "\n",
    "for filename in os.listdir(input_dir_path):\n",
    "    print(filename)\n",
    "    df_id = filename.split('_')[0]\n",
    "    input_df = pd.read_csv(os.path.join(input_dir_path, filename))\n",
    "    input_df.fillna(0, inplace=True)\n",
    "\n",
    "    settings = MinimalFCParameters()\n",
    "\n",
    "    extracted_fix_num = extract_features(input_df, column_id='mean_num_fixations', column_sort='window', default_fc_parameters=settings)\n",
    "    extracted_fix_num.dropna(axis=1, how='all', inplace=True)\n",
    "\n",
    "    extracted_fix_dur = extract_features(input_df, column_id='fixation_durations_mean', column_sort='window', default_fc_parameters=settings)\n",
    "    extracted_fix_dur.dropna(axis=1, how='all', inplace=True)\n",
    "    \n",
    "    extracted_fix_disp = extract_features(input_df, column_id='fixation_dispersion_mean', column_sort='window', default_fc_parameters=settings)\n",
    "    extracted_fix_disp.dropna(axis=1, how='all', inplace=True)\n",
    "\n",
    "    extracted_sacc_mean = extract_features(input_df, column_id='mean_num_saccades', column_sort='window', default_fc_parameters=settings)\n",
    "    extracted_sacc_mean.dropna(axis=1, how='all', inplace=True)\n",
    "\n",
    "    extracted_sacc_dist = extract_features(input_df, column_id='saccade_mean_distance', column_sort='window', default_fc_parameters=settings)\n",
    "    extracted_sacc_dist.dropna(axis=1, how='all', inplace=True)\n",
    "\n",
    "    extracted_sacc_vel = extract_features(input_df, column_id='saccade_mean_velocity', column_sort='window', default_fc_parameters=settings)\n",
    "    extracted_sacc_vel.dropna(axis=1, how='all', inplace=True)\n",
    "\n",
    "    extracted_sacc_ratio = extract_features(input_df, column_id='num_saccade_ratio', column_sort='window', default_fc_parameters=settings)\n",
    "    extracted_sacc_ratio.dropna(axis=1, how='all', inplace=True)\n",
    "\n",
    "    extracted_sacc_F2T = extract_features(input_df, column_id='forward_to_total_saccade', column_sort='window', default_fc_parameters=settings)\n",
    "    extracted_sacc_F2T.dropna(axis=1, how='all', inplace=True)\n",
    "\n",
    "    extracted_percieved_diff = extract_features(input_df, column_id='percieved_difficulty_mean', column_sort='window', default_fc_parameters=settings)\n",
    "    extracted_percieved_diff.dropna(axis=1, how='all', inplace=True)\n",
    "\n",
    "    extracted_anticipation_mean = extract_features(input_df, column_id='anticipation', column_sort='window', default_fc_parameters=settings)\n",
    "    extracted_anticipation_mean.dropna(axis=1, how='all', inplace=True)\n",
    "\n",
    "    extracted_anticipation_diff = extract_features(input_df, column_id='anticipation', column_sort='window', default_fc_parameters=settings)\n",
    "    extracted_anticipation_diff.dropna(axis=1, how='all', inplace=True)\n",
    "    \n",
    "    extracted_IPI = extract_features(input_df, column_id='IPI', column_sort='window', default_fc_parameters=settings)\n",
    "    extracted_IPI.dropna(axis=1, how='all', inplace=True)\n",
    "\n",
    "    extracted_IPI_diff = extract_features(input_df, column_id='IPI_diff', column_sort='window', default_fc_parameters=settings)\n",
    "    extracted_IPI_diff.dropna(axis=1, how='all', inplace=True)\n",
    "\n",
    "\n",
    "    df1 = extracted_fix_num.reset_index(drop=True)\n",
    "    df2 = extracted_fix_dur.reset_index(drop=True)\n",
    "    df3 = extracted_fix_disp.reset_index(drop=True)\n",
    "    df4 = extracted_sacc_mean.reset_index(drop=True)\n",
    "    df5 = extracted_sacc_dist.reset_index(drop=True)\n",
    "    df6 = extracted_sacc_vel.reset_index(drop=True)\n",
    "    df7 = extracted_sacc_ratio.reset_index(drop=True)\n",
    "    df8 = extracted_sacc_F2T.reset_index(drop=True)\n",
    "    df9 = extracted_percieved_diff.reset_index(drop=True)\n",
    "    df10 = extracted_anticipation_mean.reset_index(drop=True)\n",
    "    df11 = extracted_anticipation_diff.reset_index(drop=True)\n",
    "    df12 = extracted_IPI.reset_index(drop=True)\n",
    "    df13 = extracted_IPI_diff.reset_index(drop=True)\n",
    "\n",
    "    \n",
    "    main_df = input_df.reset_index(drop=True)\n",
    "\n",
    "    extracted_fix_df_feat = pd.concat([df1, df2, df3, df4, df5, df6, df7, df8, df9,df10, df11, df12, df13], axis=1)\n",
    "    fix_sac_features = pd.concat([main_df, extracted_fix_df_feat], axis=1)\n",
    "\n",
    "    #cols_to_drop = []\n",
    "    #for col in cog_df_features.columns:\n",
    "    #    if cog_df_features[col].nunique() == 1:\n",
    "    #        cols_to_drop.append(col)\n",
    "\n",
    "    #cog_df_features.drop(cols_to_drop, axis=1, inplace=True)\n",
    "\n",
    "    output_filename = f\"{df_id}_fix_sac_features.csv\"\n",
    "    fix_sac_features.to_csv(os.path.join(output_dir, output_filename), index=False)"
   ]
  }
 ],
 "metadata": {
  "kernelspec": {
   "display_name": "Python 3 (ipykernel)",
   "language": "python",
   "name": "python3"
  },
  "language_info": {
   "codemirror_mode": {
    "name": "ipython",
    "version": 3
   },
   "file_extension": ".py",
   "mimetype": "text/x-python",
   "name": "python",
   "nbconvert_exporter": "python",
   "pygments_lexer": "ipython3",
   "version": "3.8.10"
  }
 },
 "nbformat": 4,
 "nbformat_minor": 5
}
