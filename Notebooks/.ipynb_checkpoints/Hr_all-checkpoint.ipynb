{
 "cells": [
  {
   "cell_type": "code",
   "execution_count": null,
   "id": "e5338d6d-cb7f-4b74-8d17-2aa25b4dd2bd",
   "metadata": {},
   "outputs": [],
   "source": [
    "import sys\n",
    "!{sys.executable} -m pip install numpy\n",
    "!{sys.executable} -m pip install pandas\n",
    "!{sys.executable} -m pip install tsfresh"
   ]
  },
  {
   "cell_type": "code",
   "execution_count": 1,
   "id": "b40d5aba-77eb-4d76-8da2-9e27461efb25",
   "metadata": {},
   "outputs": [],
   "source": [
    "import os\n",
    "import pandas as pd\n",
    "import numpy as np\n",
    "\n",
    "from tsfresh import extract_features\n",
    "from tsfresh.feature_extraction import EfficientFCParameters"
   ]
  },
  {
   "cell_type": "code",
   "execution_count": null,
   "id": "d7f5ff8d-d887-4ee1-9c7b-8282c591a633",
   "metadata": {},
   "outputs": [],
   "source": [
    "#List of columns\n",
    "Index(['window', '132_avg_hr', '132_hr_variance', '132_max_hr', '132_min_hr',\n",
    "       '132_hr_diff', '132_autocorrelation_1', '132_autocorrelation_2',\n",
    "       '132_approximate_entropy', '132_autocorrelation_sum', '131_avg_hr',\n",
    "       '131_hr_variance', '131_max_hr', '131_min_hr', '131_hr_diff',\n",
    "       '131_autocorrelation_1', '131_autocorrelation_2',\n",
    "       '131_approximate_entropy', '131_autocorrelation_sum', 'avg_hr_mean',\n",
    "       'hr_variance', 'max_hr_mean', 'min_hr_meand', 'hr_diff',\n",
    "       'autocorrelation_1_mean', 'autocorrelation_2_mean',\n",
    "       'approximate_entropy', 'autocorrelation_sum_mean', 'avg_hr_diff',\n",
    "       'hr_variance_diff', 'max_hr_mean_diff', 'min_hr_meand_diff',\n",
    "       'hr_diff_diff', 'autocorrelation_1_mean_diff',\n",
    "       'autocorrelation_2_mean_diff', 'approximate_entropy_diff'],\n",
    "      dtype='object')\n",
    "('forward_to_total_saccade', 'percieved_difficulty_mean', 'IPI', 'IPI_diff')"
   ]
  },
  {
   "cell_type": "code",
   "execution_count": 2,
   "id": "732b98ff-2a00-4b9b-bcc0-8d626ac96319",
   "metadata": {},
   "outputs": [
    {
     "name": "stdout",
     "output_type": "stream",
     "text": [
      "Index(['window', '132_avg_hr', '132_hr_variance', '132_max_hr', '132_min_hr',\n",
      "       '132_hr_diff', '132_autocorrelation_1', '132_autocorrelation_2',\n",
      "       '132_approximate_entropy', '132_autocorrelation_sum', '131_avg_hr',\n",
      "       '131_hr_variance', '131_max_hr', '131_min_hr', '131_hr_diff',\n",
      "       '131_autocorrelation_1', '131_autocorrelation_2',\n",
      "       '131_approximate_entropy', '131_autocorrelation_sum', 'avg_hr_mean',\n",
      "       'hr_variance', 'max_hr_mean', 'min_hr_meand', 'hr_diff',\n",
      "       'autocorrelation_1_mean', 'autocorrelation_2_mean',\n",
      "       'approximate_entropy', 'autocorrelation_sum_mean', 'avg_hr_diff',\n",
      "       'hr_variance_diff', 'max_hr_mean_diff', 'min_hr_meand_diff',\n",
      "       'hr_diff_diff', 'autocorrelation_1_mean_diff',\n",
      "       'autocorrelation_2_mean_diff', 'approximate_entropy_diff'],\n",
      "      dtype='object')\n"
     ]
    },
    {
     "data": {
      "text/plain": [
       "('forward_to_total_saccade', 'percieved_difficulty_mean', 'IPI', 'IPI_diff')"
      ]
     },
     "execution_count": 2,
     "metadata": {},
     "output_type": "execute_result"
    }
   ],
   "source": [
    "input_dir_path = '../analysis/ready_group/hr/10003_hr_measures.csv'\n",
    "output_dir = '../analysis/computed_ready/hr'\n"
   ]
  }
 ],
 "metadata": {
  "kernelspec": {
   "display_name": "Python 3 (ipykernel)",
   "language": "python",
   "name": "python3"
  },
  "language_info": {
   "codemirror_mode": {
    "name": "ipython",
    "version": 3
   },
   "file_extension": ".py",
   "mimetype": "text/x-python",
   "name": "python",
   "nbconvert_exporter": "python",
   "pygments_lexer": "ipython3",
   "version": "3.8.10"
  }
 },
 "nbformat": 4,
 "nbformat_minor": 5
}
