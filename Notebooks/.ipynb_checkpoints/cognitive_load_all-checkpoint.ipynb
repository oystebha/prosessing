{
 "cells": [
  {
   "cell_type": "code",
   "execution_count": 1,
   "id": "b450803c-7b26-40f3-b5fc-aedd3fdb4212",
   "metadata": {
    "scrolled": true
   },
   "outputs": [
    {
     "name": "stdout",
     "output_type": "stream",
     "text": [
      "Requirement already satisfied: numpy in /home/ystein/Dokumenter/Master/jupyter/environment/lib/python3.8/site-packages (1.24.3)\n",
      "\u001b[33mWARNING: You are using pip version 21.2.4; however, version 23.1.2 is available.\n",
      "You should consider upgrading via the '/home/ystein/Dokumenter/Master/jupyter/environment/bin/python -m pip install --upgrade pip' command.\u001b[0m\n",
      "Requirement already satisfied: pandas in /home/ystein/Dokumenter/Master/jupyter/environment/lib/python3.8/site-packages (2.0.2)\n",
      "Requirement already satisfied: tzdata>=2022.1 in /home/ystein/Dokumenter/Master/jupyter/environment/lib/python3.8/site-packages (from pandas) (2023.3)\n",
      "Requirement already satisfied: python-dateutil>=2.8.2 in /home/ystein/Dokumenter/Master/jupyter/environment/lib/python3.8/site-packages (from pandas) (2.8.2)\n",
      "Requirement already satisfied: numpy>=1.20.3 in /home/ystein/Dokumenter/Master/jupyter/environment/lib/python3.8/site-packages (from pandas) (1.24.3)\n",
      "Requirement already satisfied: pytz>=2020.1 in /home/ystein/Dokumenter/Master/jupyter/environment/lib/python3.8/site-packages (from pandas) (2023.3)\n",
      "Requirement already satisfied: six>=1.5 in /home/ystein/Dokumenter/Master/jupyter/environment/lib/python3.8/site-packages (from python-dateutil>=2.8.2->pandas) (1.16.0)\n",
      "\u001b[33mWARNING: You are using pip version 21.2.4; however, version 23.1.2 is available.\n",
      "You should consider upgrading via the '/home/ystein/Dokumenter/Master/jupyter/environment/bin/python -m pip install --upgrade pip' command.\u001b[0m\n",
      "Requirement already satisfied: tsfresh in /home/ystein/Dokumenter/Master/jupyter/environment/lib/python3.8/site-packages (0.20.1)\n",
      "Requirement already satisfied: scipy>=1.2.0 in /home/ystein/Dokumenter/Master/jupyter/environment/lib/python3.8/site-packages (from tsfresh) (1.10.1)\n",
      "Requirement already satisfied: distributed>=2.11.0 in /home/ystein/Dokumenter/Master/jupyter/environment/lib/python3.8/site-packages (from tsfresh) (2023.5.0)\n",
      "Requirement already satisfied: cloudpickle in /home/ystein/Dokumenter/Master/jupyter/environment/lib/python3.8/site-packages (from tsfresh) (2.2.1)\n",
      "Requirement already satisfied: statsmodels>=0.13 in /home/ystein/Dokumenter/Master/jupyter/environment/lib/python3.8/site-packages (from tsfresh) (0.14.0)\n",
      "Requirement already satisfied: numpy>=1.15.1 in /home/ystein/Dokumenter/Master/jupyter/environment/lib/python3.8/site-packages (from tsfresh) (1.24.3)\n",
      "Requirement already satisfied: patsy>=0.4.1 in /home/ystein/Dokumenter/Master/jupyter/environment/lib/python3.8/site-packages (from tsfresh) (0.5.3)\n",
      "Requirement already satisfied: tqdm>=4.10.0 in /home/ystein/Dokumenter/Master/jupyter/environment/lib/python3.8/site-packages (from tsfresh) (4.65.0)\n",
      "Requirement already satisfied: stumpy>=1.7.2 in /home/ystein/Dokumenter/Master/jupyter/environment/lib/python3.8/site-packages (from tsfresh) (1.11.1)\n",
      "Requirement already satisfied: pandas>=0.25.0 in /home/ystein/Dokumenter/Master/jupyter/environment/lib/python3.8/site-packages (from tsfresh) (2.0.2)\n",
      "Requirement already satisfied: scikit-learn>=0.22.0 in /home/ystein/Dokumenter/Master/jupyter/environment/lib/python3.8/site-packages (from tsfresh) (1.2.2)\n",
      "Requirement already satisfied: requests>=2.9.1 in /home/ystein/Dokumenter/Master/jupyter/environment/lib/python3.8/site-packages (from tsfresh) (2.31.0)\n",
      "Requirement already satisfied: dask[dataframe]>=2.9.0 in /home/ystein/Dokumenter/Master/jupyter/environment/lib/python3.8/site-packages (from tsfresh) (2023.5.0)\n",
      "Requirement already satisfied: fsspec>=2021.09.0 in /home/ystein/Dokumenter/Master/jupyter/environment/lib/python3.8/site-packages (from dask[dataframe]>=2.9.0->tsfresh) (2023.6.0)\n",
      "Requirement already satisfied: packaging>=20.0 in /home/ystein/Dokumenter/Master/jupyter/environment/lib/python3.8/site-packages (from dask[dataframe]>=2.9.0->tsfresh) (23.1)\n",
      "Requirement already satisfied: toolz>=0.10.0 in /home/ystein/Dokumenter/Master/jupyter/environment/lib/python3.8/site-packages (from dask[dataframe]>=2.9.0->tsfresh) (0.12.0)\n",
      "Requirement already satisfied: pyyaml>=5.3.1 in /home/ystein/Dokumenter/Master/jupyter/environment/lib/python3.8/site-packages (from dask[dataframe]>=2.9.0->tsfresh) (6.0)\n",
      "Requirement already satisfied: importlib-metadata>=4.13.0 in /home/ystein/Dokumenter/Master/jupyter/environment/lib/python3.8/site-packages (from dask[dataframe]>=2.9.0->tsfresh) (6.7.0)\n",
      "Requirement already satisfied: click>=8.0 in /home/ystein/Dokumenter/Master/jupyter/environment/lib/python3.8/site-packages (from dask[dataframe]>=2.9.0->tsfresh) (8.1.3)\n",
      "Requirement already satisfied: partd>=1.2.0 in /home/ystein/Dokumenter/Master/jupyter/environment/lib/python3.8/site-packages (from dask[dataframe]>=2.9.0->tsfresh) (1.4.0)\n",
      "Requirement already satisfied: msgpack>=1.0.0 in /home/ystein/Dokumenter/Master/jupyter/environment/lib/python3.8/site-packages (from distributed>=2.11.0->tsfresh) (1.0.5)\n",
      "Requirement already satisfied: locket>=1.0.0 in /home/ystein/Dokumenter/Master/jupyter/environment/lib/python3.8/site-packages (from distributed>=2.11.0->tsfresh) (1.0.0)\n",
      "Requirement already satisfied: jinja2>=2.10.3 in /home/ystein/Dokumenter/Master/jupyter/environment/lib/python3.8/site-packages (from distributed>=2.11.0->tsfresh) (3.1.2)\n",
      "Requirement already satisfied: urllib3>=1.24.3 in /home/ystein/Dokumenter/Master/jupyter/environment/lib/python3.8/site-packages (from distributed>=2.11.0->tsfresh) (2.0.3)\n",
      "Requirement already satisfied: zict>=2.2.0 in /home/ystein/Dokumenter/Master/jupyter/environment/lib/python3.8/site-packages (from distributed>=2.11.0->tsfresh) (3.0.0)\n",
      "Requirement already satisfied: tornado>=6.0.3 in /home/ystein/Dokumenter/Master/jupyter/environment/lib/python3.8/site-packages (from distributed>=2.11.0->tsfresh) (6.3.2)\n",
      "Requirement already satisfied: tblib>=1.6.0 in /home/ystein/Dokumenter/Master/jupyter/environment/lib/python3.8/site-packages (from distributed>=2.11.0->tsfresh) (1.7.0)\n",
      "Requirement already satisfied: sortedcontainers>=2.0.5 in /home/ystein/Dokumenter/Master/jupyter/environment/lib/python3.8/site-packages (from distributed>=2.11.0->tsfresh) (2.4.0)\n",
      "Requirement already satisfied: psutil>=5.7.0 in /home/ystein/Dokumenter/Master/jupyter/environment/lib/python3.8/site-packages (from distributed>=2.11.0->tsfresh) (5.9.5)\n",
      "Requirement already satisfied: zipp>=0.5 in /home/ystein/Dokumenter/Master/jupyter/environment/lib/python3.8/site-packages (from importlib-metadata>=4.13.0->dask[dataframe]>=2.9.0->tsfresh) (3.15.0)\n",
      "Requirement already satisfied: MarkupSafe>=2.0 in /home/ystein/Dokumenter/Master/jupyter/environment/lib/python3.8/site-packages (from jinja2>=2.10.3->distributed>=2.11.0->tsfresh) (2.1.3)\n",
      "Requirement already satisfied: pytz>=2020.1 in /home/ystein/Dokumenter/Master/jupyter/environment/lib/python3.8/site-packages (from pandas>=0.25.0->tsfresh) (2023.3)\n",
      "Requirement already satisfied: python-dateutil>=2.8.2 in /home/ystein/Dokumenter/Master/jupyter/environment/lib/python3.8/site-packages (from pandas>=0.25.0->tsfresh) (2.8.2)\n",
      "Requirement already satisfied: tzdata>=2022.1 in /home/ystein/Dokumenter/Master/jupyter/environment/lib/python3.8/site-packages (from pandas>=0.25.0->tsfresh) (2023.3)\n",
      "Requirement already satisfied: six in /home/ystein/Dokumenter/Master/jupyter/environment/lib/python3.8/site-packages (from patsy>=0.4.1->tsfresh) (1.16.0)\n",
      "Requirement already satisfied: certifi>=2017.4.17 in /home/ystein/Dokumenter/Master/jupyter/environment/lib/python3.8/site-packages (from requests>=2.9.1->tsfresh) (2023.5.7)\n",
      "Requirement already satisfied: charset-normalizer<4,>=2 in /home/ystein/Dokumenter/Master/jupyter/environment/lib/python3.8/site-packages (from requests>=2.9.1->tsfresh) (3.1.0)\n",
      "Requirement already satisfied: idna<4,>=2.5 in /home/ystein/Dokumenter/Master/jupyter/environment/lib/python3.8/site-packages (from requests>=2.9.1->tsfresh) (3.4)\n",
      "Requirement already satisfied: threadpoolctl>=2.0.0 in /home/ystein/Dokumenter/Master/jupyter/environment/lib/python3.8/site-packages (from scikit-learn>=0.22.0->tsfresh) (3.1.0)\n",
      "Requirement already satisfied: joblib>=1.1.1 in /home/ystein/Dokumenter/Master/jupyter/environment/lib/python3.8/site-packages (from scikit-learn>=0.22.0->tsfresh) (1.2.0)\n",
      "Requirement already satisfied: numba>=0.54 in /home/ystein/Dokumenter/Master/jupyter/environment/lib/python3.8/site-packages (from stumpy>=1.7.2->tsfresh) (0.57.0)\n",
      "Requirement already satisfied: llvmlite<0.41,>=0.40.0dev0 in /home/ystein/Dokumenter/Master/jupyter/environment/lib/python3.8/site-packages (from numba>=0.54->stumpy>=1.7.2->tsfresh) (0.40.1rc1)\n",
      "\u001b[33mWARNING: You are using pip version 21.2.4; however, version 23.1.2 is available.\n",
      "You should consider upgrading via the '/home/ystein/Dokumenter/Master/jupyter/environment/bin/python -m pip install --upgrade pip' command.\u001b[0m\n"
     ]
    }
   ],
   "source": [
    "import sys\n",
    "!{sys.executable} -m pip install numpy\n",
    "!{sys.executable} -m pip install pandas\n",
    "!{sys.executable} -m pip install tsfresh"
   ]
  },
  {
   "cell_type": "code",
   "execution_count": 12,
   "id": "149eb15d-7acc-4205-b706-46768bf8fea9",
   "metadata": {},
   "outputs": [],
   "source": [
    "import os\n",
    "import pandas as pd\n",
    "import numpy as np\n",
    "\n",
    "from tsfresh import extract_features\n",
    "from tsfresh.feature_extraction import MinimalFCParameters"
   ]
  },
  {
   "cell_type": "code",
   "execution_count": 13,
   "id": "84f4f57e-82ab-4640-bfbb-2375049c3442",
   "metadata": {
    "scrolled": true
   },
   "outputs": [
    {
     "name": "stdout",
     "output_type": "stream",
     "text": [
      "f10002_cog_load.csv\n"
     ]
    },
    {
     "name": "stderr",
     "output_type": "stream",
     "text": [
      "Feature Extraction: 100%|███████████████████████████████████████████████████████████████████████████████████████████| 20/20 [01:06<00:00,  3.33s/it]\n",
      "Feature Extraction: 100%|███████████████████████████████████████████████████████████████████████████████████████████| 20/20 [01:04<00:00,  3.23s/it]\n",
      "Feature Extraction: 100%|███████████████████████████████████████████████████████████████████████████████████████████| 20/20 [01:28<00:00,  4.45s/it]\n"
     ]
    },
    {
     "name": "stdout",
     "output_type": "stream",
     "text": [
      "10018_cog_load.csv\n"
     ]
    },
    {
     "name": "stderr",
     "output_type": "stream",
     "text": [
      "Feature Extraction: 100%|███████████████████████████████████████████████████████████████████████████████████████████| 20/20 [01:29<00:00,  4.47s/it]\n",
      "Feature Extraction: 100%|███████████████████████████████████████████████████████████████████████████████████████████| 20/20 [01:26<00:00,  4.35s/it]\n",
      "Feature Extraction: 100%|███████████████████████████████████████████████████████████████████████████████████████████| 20/20 [01:30<00:00,  4.51s/it]\n"
     ]
    },
    {
     "name": "stdout",
     "output_type": "stream",
     "text": [
      "f10004_cog_load.csv\n"
     ]
    },
    {
     "name": "stderr",
     "output_type": "stream",
     "text": [
      "Feature Extraction: 100%|███████████████████████████████████████████████████████████████████████████████████████████| 20/20 [00:56<00:00,  2.82s/it]\n",
      "Feature Extraction: 100%|███████████████████████████████████████████████████████████████████████████████████████████| 20/20 [00:47<00:00,  2.40s/it]\n",
      "Feature Extraction: 100%|███████████████████████████████████████████████████████████████████████████████████████████| 20/20 [01:00<00:00,  3.04s/it]\n"
     ]
    },
    {
     "name": "stdout",
     "output_type": "stream",
     "text": [
      "f10041_cog_load.csv\n"
     ]
    },
    {
     "name": "stderr",
     "output_type": "stream",
     "text": [
      "Feature Extraction: 100%|███████████████████████████████████████████████████████████████████████████████████████████| 20/20 [01:36<00:00,  4.85s/it]\n",
      "Feature Extraction: 100%|███████████████████████████████████████████████████████████████████████████████████████████| 20/20 [01:34<00:00,  4.71s/it]\n",
      "Feature Extraction: 100%|███████████████████████████████████████████████████████████████████████████████████████████| 20/20 [01:43<00:00,  5.18s/it]\n"
     ]
    },
    {
     "name": "stdout",
     "output_type": "stream",
     "text": [
      "10016_cog_load.csv\n"
     ]
    },
    {
     "name": "stderr",
     "output_type": "stream",
     "text": [
      "Feature Extraction: 100%|███████████████████████████████████████████████████████████████████████████████████████████| 20/20 [00:13<00:00,  1.44it/s]\n",
      "Feature Extraction: 100%|███████████████████████████████████████████████████████████████████████████████████████████| 20/20 [00:13<00:00,  1.47it/s]\n",
      "Feature Extraction: 100%|███████████████████████████████████████████████████████████████████████████████████████████| 20/20 [00:14<00:00,  1.36it/s]\n"
     ]
    },
    {
     "name": "stdout",
     "output_type": "stream",
     "text": [
      "10012_cog_load.csv\n"
     ]
    },
    {
     "name": "stderr",
     "output_type": "stream",
     "text": [
      "Feature Extraction: 100%|███████████████████████████████████████████████████████████████████████████████████████████| 20/20 [01:38<00:00,  4.92s/it]\n",
      "Feature Extraction: 100%|███████████████████████████████████████████████████████████████████████████████████████████| 20/20 [01:35<00:00,  4.79s/it]\n",
      "Feature Extraction: 100%|███████████████████████████████████████████████████████████████████████████████████████████| 20/20 [01:42<00:00,  5.12s/it]\n"
     ]
    },
    {
     "name": "stdout",
     "output_type": "stream",
     "text": [
      "f10006_cog_load.csv\n"
     ]
    },
    {
     "name": "stderr",
     "output_type": "stream",
     "text": [
      "Feature Extraction: 100%|███████████████████████████████████████████████████████████████████████████████████████████| 20/20 [01:43<00:00,  5.19s/it]\n",
      "Feature Extraction: 100%|███████████████████████████████████████████████████████████████████████████████████████████| 20/20 [01:40<00:00,  5.01s/it]\n",
      "Feature Extraction: 100%|███████████████████████████████████████████████████████████████████████████████████████████| 20/20 [01:40<00:00,  5.04s/it]\n"
     ]
    },
    {
     "name": "stdout",
     "output_type": "stream",
     "text": [
      "f10003_cog_load.csv\n"
     ]
    },
    {
     "name": "stderr",
     "output_type": "stream",
     "text": [
      "Feature Extraction: 100%|███████████████████████████████████████████████████████████████████████████████████████████| 20/20 [01:39<00:00,  4.97s/it]\n",
      "Feature Extraction: 100%|███████████████████████████████████████████████████████████████████████████████████████████| 20/20 [01:43<00:00,  5.15s/it]\n",
      "Feature Extraction: 100%|███████████████████████████████████████████████████████████████████████████████████████████| 20/20 [01:45<00:00,  5.28s/it]\n"
     ]
    },
    {
     "name": "stdout",
     "output_type": "stream",
     "text": [
      "10020_cog_load.csv\n"
     ]
    },
    {
     "name": "stderr",
     "output_type": "stream",
     "text": [
      "Feature Extraction: 100%|███████████████████████████████████████████████████████████████████████████████████████████| 20/20 [01:21<00:00,  4.08s/it]\n",
      "Feature Extraction: 100%|███████████████████████████████████████████████████████████████████████████████████████████| 20/20 [01:13<00:00,  3.68s/it]\n",
      "Feature Extraction: 100%|███████████████████████████████████████████████████████████████████████████████████████████| 20/20 [01:14<00:00,  3.73s/it]\n"
     ]
    },
    {
     "name": "stdout",
     "output_type": "stream",
     "text": [
      "f10008_10009_cog_load.csv\n"
     ]
    },
    {
     "name": "stderr",
     "output_type": "stream",
     "text": [
      "Feature Extraction: 100%|███████████████████████████████████████████████████████████████████████████████████████████| 20/20 [00:39<00:00,  1.99s/it]\n",
      "Feature Extraction: 100%|███████████████████████████████████████████████████████████████████████████████████████████| 20/20 [00:36<00:00,  1.80s/it]\n",
      "Feature Extraction: 100%|███████████████████████████████████████████████████████████████████████████████████████████| 20/20 [00:55<00:00,  2.77s/it]\n"
     ]
    },
    {
     "name": "stdout",
     "output_type": "stream",
     "text": [
      "f10001_cog_load.csv\n"
     ]
    },
    {
     "name": "stderr",
     "output_type": "stream",
     "text": [
      "Feature Extraction: 100%|███████████████████████████████████████████████████████████████████████████████████████████| 20/20 [01:26<00:00,  4.33s/it]\n",
      "Feature Extraction: 100%|███████████████████████████████████████████████████████████████████████████████████████████| 20/20 [01:27<00:00,  4.37s/it]\n",
      "Feature Extraction: 100%|███████████████████████████████████████████████████████████████████████████████████████████| 20/20 [01:33<00:00,  4.66s/it]\n"
     ]
    },
    {
     "name": "stdout",
     "output_type": "stream",
     "text": [
      "f10061_cog_load.csv\n"
     ]
    },
    {
     "name": "stderr",
     "output_type": "stream",
     "text": [
      "Feature Extraction: 100%|███████████████████████████████████████████████████████████████████████████████████████████| 20/20 [01:15<00:00,  3.78s/it]\n",
      "Feature Extraction: 100%|███████████████████████████████████████████████████████████████████████████████████████████| 20/20 [01:14<00:00,  3.74s/it]\n",
      "Feature Extraction: 100%|███████████████████████████████████████████████████████████████████████████████████████████| 20/20 [01:12<00:00,  3.64s/it]\n"
     ]
    },
    {
     "name": "stdout",
     "output_type": "stream",
     "text": [
      "10008_cog_load.csv\n"
     ]
    },
    {
     "name": "stderr",
     "output_type": "stream",
     "text": [
      "Feature Extraction: 100%|███████████████████████████████████████████████████████████████████████████████████████████| 20/20 [00:49<00:00,  2.49s/it]\n",
      "Feature Extraction: 100%|███████████████████████████████████████████████████████████████████████████████████████████| 20/20 [00:51<00:00,  2.56s/it]\n",
      "Feature Extraction: 100%|███████████████████████████████████████████████████████████████████████████████████████████| 20/20 [00:53<00:00,  2.67s/it]\n"
     ]
    },
    {
     "name": "stdout",
     "output_type": "stream",
     "text": [
      "f10051_cog_load.csv\n"
     ]
    },
    {
     "name": "stderr",
     "output_type": "stream",
     "text": [
      "Feature Extraction: 100%|███████████████████████████████████████████████████████████████████████████████████████████| 20/20 [01:20<00:00,  4.02s/it]\n",
      "Feature Extraction: 100%|███████████████████████████████████████████████████████████████████████████████████████████| 20/20 [01:18<00:00,  3.90s/it]\n",
      "Feature Extraction: 100%|███████████████████████████████████████████████████████████████████████████████████████████| 20/20 [01:24<00:00,  4.24s/it]\n"
     ]
    },
    {
     "name": "stdout",
     "output_type": "stream",
     "text": [
      "10017_cog_load.csv\n"
     ]
    },
    {
     "name": "stderr",
     "output_type": "stream",
     "text": [
      "Feature Extraction: 100%|███████████████████████████████████████████████████████████████████████████████████████████| 20/20 [00:50<00:00,  2.55s/it]\n",
      "Feature Extraction: 100%|███████████████████████████████████████████████████████████████████████████████████████████| 20/20 [00:50<00:00,  2.54s/it]\n",
      "Feature Extraction: 100%|███████████████████████████████████████████████████████████████████████████████████████████| 20/20 [00:53<00:00,  2.69s/it]\n"
     ]
    },
    {
     "name": "stdout",
     "output_type": "stream",
     "text": [
      "10014_cog_load.csv\n"
     ]
    },
    {
     "name": "stderr",
     "output_type": "stream",
     "text": [
      "Feature Extraction: 100%|███████████████████████████████████████████████████████████████████████████████████████████| 20/20 [01:22<00:00,  4.10s/it]\n",
      "Feature Extraction: 100%|███████████████████████████████████████████████████████████████████████████████████████████| 20/20 [01:23<00:00,  4.17s/it]\n",
      "Feature Extraction: 100%|███████████████████████████████████████████████████████████████████████████████████████████| 20/20 [01:26<00:00,  4.31s/it]\n"
     ]
    },
    {
     "name": "stdout",
     "output_type": "stream",
     "text": [
      "f10005_cog_load.csv\n"
     ]
    },
    {
     "name": "stderr",
     "output_type": "stream",
     "text": [
      "Feature Extraction: 100%|███████████████████████████████████████████████████████████████████████████████████████████| 20/20 [00:47<00:00,  2.38s/it]\n",
      "Feature Extraction: 100%|███████████████████████████████████████████████████████████████████████████████████████████| 20/20 [00:46<00:00,  2.30s/it]\n",
      "Feature Extraction: 100%|███████████████████████████████████████████████████████████████████████████████████████████| 20/20 [00:49<00:00,  2.46s/it]\n"
     ]
    },
    {
     "name": "stdout",
     "output_type": "stream",
     "text": [
      "10010_cog_load.csv\n"
     ]
    },
    {
     "name": "stderr",
     "output_type": "stream",
     "text": [
      "Feature Extraction: 100%|███████████████████████████████████████████████████████████████████████████████████████████| 20/20 [00:48<00:00,  2.41s/it]\n",
      "Feature Extraction: 100%|███████████████████████████████████████████████████████████████████████████████████████████| 20/20 [00:36<00:00,  1.84s/it]\n",
      "Feature Extraction: 100%|███████████████████████████████████████████████████████████████████████████████████████████| 20/20 [01:21<00:00,  4.07s/it]\n"
     ]
    },
    {
     "name": "stdout",
     "output_type": "stream",
     "text": [
      "10015_cog_load.csv\n"
     ]
    },
    {
     "name": "stderr",
     "output_type": "stream",
     "text": [
      "Feature Extraction: 100%|███████████████████████████████████████████████████████████████████████████████████████████| 20/20 [01:18<00:00,  3.91s/it]\n",
      "Feature Extraction: 100%|███████████████████████████████████████████████████████████████████████████████████████████| 20/20 [01:17<00:00,  3.89s/it]\n",
      "Feature Extraction: 100%|███████████████████████████████████████████████████████████████████████████████████████████| 20/20 [01:27<00:00,  4.36s/it]\n"
     ]
    },
    {
     "name": "stdout",
     "output_type": "stream",
     "text": [
      "10011_cog_load.csv\n"
     ]
    },
    {
     "name": "stderr",
     "output_type": "stream",
     "text": [
      "Feature Extraction: 100%|███████████████████████████████████████████████████████████████████████████████████████████| 20/20 [00:55<00:00,  2.76s/it]\n",
      "Feature Extraction: 100%|███████████████████████████████████████████████████████████████████████████████████████████| 20/20 [00:53<00:00,  2.70s/it]\n",
      "Feature Extraction: 100%|███████████████████████████████████████████████████████████████████████████████████████████| 20/20 [00:55<00:00,  2.79s/it]\n"
     ]
    },
    {
     "name": "stdout",
     "output_type": "stream",
     "text": [
      "10006_cog_load.csv\n"
     ]
    },
    {
     "name": "stderr",
     "output_type": "stream",
     "text": [
      "Feature Extraction: 100%|███████████████████████████████████████████████████████████████████████████████████████████| 20/20 [01:19<00:00,  3.97s/it]\n",
      "Feature Extraction: 100%|███████████████████████████████████████████████████████████████████████████████████████████| 20/20 [01:21<00:00,  4.08s/it]\n",
      "Feature Extraction: 100%|███████████████████████████████████████████████████████████████████████████████████████████| 20/20 [01:24<00:00,  4.21s/it]\n"
     ]
    },
    {
     "name": "stdout",
     "output_type": "stream",
     "text": [
      "f10031_cog_load.csv\n"
     ]
    },
    {
     "name": "stderr",
     "output_type": "stream",
     "text": [
      "Feature Extraction: 100%|███████████████████████████████████████████████████████████████████████████████████████████| 20/20 [00:23<00:00,  1.17s/it]\n",
      "Feature Extraction: 100%|███████████████████████████████████████████████████████████████████████████████████████████| 20/20 [00:21<00:00,  1.09s/it]\n",
      "Feature Extraction: 100%|███████████████████████████████████████████████████████████████████████████████████████████| 20/20 [00:54<00:00,  2.71s/it]\n"
     ]
    },
    {
     "name": "stdout",
     "output_type": "stream",
     "text": [
      "f10007_cog_load.csv\n"
     ]
    },
    {
     "name": "stderr",
     "output_type": "stream",
     "text": [
      "Feature Extraction: 100%|███████████████████████████████████████████████████████████████████████████████████████████| 20/20 [01:23<00:00,  4.16s/it]\n",
      "Feature Extraction: 100%|███████████████████████████████████████████████████████████████████████████████████████████| 20/20 [01:25<00:00,  4.26s/it]\n",
      "Feature Extraction: 100%|███████████████████████████████████████████████████████████████████████████████████████████| 20/20 [01:24<00:00,  4.22s/it]\n"
     ]
    },
    {
     "name": "stdout",
     "output_type": "stream",
     "text": [
      "f10071_cog_load.csv\n"
     ]
    },
    {
     "name": "stderr",
     "output_type": "stream",
     "text": [
      "Feature Extraction: 100%|███████████████████████████████████████████████████████████████████████████████████████████| 20/20 [00:36<00:00,  1.85s/it]\n",
      "Feature Extraction: 100%|███████████████████████████████████████████████████████████████████████████████████████████| 20/20 [00:36<00:00,  1.83s/it]\n",
      "Feature Extraction: 100%|███████████████████████████████████████████████████████████████████████████████████████████| 20/20 [01:24<00:00,  4.20s/it]\n"
     ]
    },
    {
     "name": "stdout",
     "output_type": "stream",
     "text": [
      "f10021_cog_load.csv\n"
     ]
    },
    {
     "name": "stderr",
     "output_type": "stream",
     "text": [
      "Feature Extraction: 100%|███████████████████████████████████████████████████████████████████████████████████████████| 20/20 [01:17<00:00,  3.88s/it]\n",
      "Feature Extraction: 100%|███████████████████████████████████████████████████████████████████████████████████████████| 20/20 [01:23<00:00,  4.17s/it]\n",
      "Feature Extraction: 100%|███████████████████████████████████████████████████████████████████████████████████████████| 20/20 [01:20<00:00,  4.04s/it]\n"
     ]
    },
    {
     "name": "stdout",
     "output_type": "stream",
     "text": [
      "10002_cog_load.csv\n"
     ]
    },
    {
     "name": "stderr",
     "output_type": "stream",
     "text": [
      "Feature Extraction: 100%|███████████████████████████████████████████████████████████████████████████████████████████| 20/20 [00:06<00:00,  3.31it/s]\n",
      "Feature Extraction: 100%|███████████████████████████████████████████████████████████████████████████████████████████| 20/20 [00:06<00:00,  3.30it/s]\n",
      "Feature Extraction: 100%|███████████████████████████████████████████████████████████████████████████████████████████| 20/20 [00:06<00:00,  3.09it/s]\n"
     ]
    },
    {
     "name": "stdout",
     "output_type": "stream",
     "text": [
      "f10081_cog_load.csv\n"
     ]
    },
    {
     "name": "stderr",
     "output_type": "stream",
     "text": [
      "Feature Extraction: 100%|███████████████████████████████████████████████████████████████████████████████████████████| 20/20 [00:42<00:00,  2.12s/it]\n",
      "Feature Extraction: 100%|███████████████████████████████████████████████████████████████████████████████████████████| 20/20 [00:43<00:00,  2.15s/it]\n",
      "Feature Extraction: 100%|███████████████████████████████████████████████████████████████████████████████████████████| 20/20 [01:24<00:00,  4.23s/it]\n"
     ]
    },
    {
     "name": "stdout",
     "output_type": "stream",
     "text": [
      "10013_cog_load.csv\n"
     ]
    },
    {
     "name": "stderr",
     "output_type": "stream",
     "text": [
      "Feature Extraction: 100%|███████████████████████████████████████████████████████████████████████████████████████████| 20/20 [01:24<00:00,  4.22s/it]\n",
      "Feature Extraction: 100%|███████████████████████████████████████████████████████████████████████████████████████████| 20/20 [01:26<00:00,  4.33s/it]\n",
      "Feature Extraction: 100%|███████████████████████████████████████████████████████████████████████████████████████████| 20/20 [01:25<00:00,  4.26s/it]\n"
     ]
    }
   ],
   "source": [
    "input_dir_path = '../analysis/ready_group/cog_load_all'\n",
    "output_dir = '../analysis/computed_ready/cog_load'\n",
    "for filename in os.listdir(input_dir_path):\n",
    "    print(filename)\n",
    "    df_id = filename.split('_')[0]\n",
    "    input_df = pd.read_csv(os.path.join(input_dir_path, filename))\n",
    "    input_df.fillna(0, inplace=True)\n",
    "\n",
    "    settings = MinimalFCParameters()\n",
    "\n",
    "    extracted_features_cog_mean = extract_features(input_df, column_id='cognitive_load_mean_users', column_sort='window', default_fc_parameters=settings)\n",
    "    extracted_features_cog_mean.dropna(axis=1, how='all', inplace=True)\n",
    "\n",
    "    extracted_cognitive_load_diff_users = extract_features(input_df, column_id='cognitive_load_diff_users', column_sort='window', default_fc_parameters=settings)\n",
    "    extracted_cognitive_load_diff_users.dropna(axis=1, how='all', inplace=True)\n",
    "\n",
    "    extracted_features_pupil_mean = extract_features(input_df, column_id='pupil_diam_mean', column_sort='window', default_fc_parameters=settings)\n",
    "    extracted_features_pupil_mean.dropna(axis=1, how='all', inplace=True)\n",
    "\n",
    "    df1 = extracted_features_cog_mean.reset_index(drop=True)\n",
    "    df2 = extracted_cognitive_load_diff_users.reset_index(drop=True)\n",
    "    df3 = extracted_features_pupil_mean.reset_index(drop=True)\n",
    "    main_df = input_df.reset_index(drop=True)\n",
    "\n",
    "    extracted_cog_feat = pd.concat([df1, df2, df3], axis=1)\n",
    "    cog_df_features = pd.concat([main_df, extracted_cog_feat], axis=1)\n",
    "\n",
    "    #cols_to_drop = []\n",
    "    #for col in cog_df_features.columns:\n",
    "    #    if cog_df_features[col].nunique() == 1:\n",
    "    #        cols_to_drop.append(col)\n",
    "\n",
    "    #cog_df_features.drop(cols_to_drop, axis=1, inplace=True)\n",
    "\n",
    "    output_filename = f\"{df_id}_cog_load.csv\"\n",
    "    cog_df_features.to_csv(os.path.join(output_dir, output_filename), index=False)"
   ]
  },
  {
   "cell_type": "code",
   "execution_count": 10,
   "id": "2d431fd5-ee43-4d63-9c50-294293c44c37",
   "metadata": {},
   "outputs": [
    {
     "data": {
      "text/plain": [
       "window                       0\n",
       "122_ipa_value                0\n",
       "122_pupil_diam_mean          0\n",
       "122_pupil_diam_median        0\n",
       "122_pupil_diam_min           0\n",
       "122_pupil_diam_max           0\n",
       "122_pupil_diam_std           0\n",
       "121_ipa_value                0\n",
       "121_pupil_diam_mean          0\n",
       "121_pupil_diam_median        0\n",
       "121_pupil_diam_min           0\n",
       "121_pupil_diam_max           0\n",
       "121_pupil_diam_std           0\n",
       "cognitive_load_mean_users    0\n",
       "cognitive_load_diff_users    0\n",
       "pupil_diam_mean              0\n",
       "pupil_diam_median            0\n",
       "pupil_diam_min               0\n",
       "pupil_diam_max               0\n",
       "pupil_diam_std               0\n",
       "pupil_diam_mean_diff         0\n",
       "pupil_diam_med_diff          0\n",
       "pupil_diam_min_diff          0\n",
       "pupil_diam_max_diff          0\n",
       "pupil_diam_std_diff          0\n",
       "dtype: int64"
      ]
     },
     "execution_count": 10,
     "metadata": {},
     "output_type": "execute_result"
    }
   ],
   "source": []
  }
 ],
 "metadata": {
  "kernelspec": {
   "display_name": "Python 3 (ipykernel)",
   "language": "python",
   "name": "python3"
  },
  "language_info": {
   "codemirror_mode": {
    "name": "ipython",
    "version": 3
   },
   "file_extension": ".py",
   "mimetype": "text/x-python",
   "name": "python",
   "nbconvert_exporter": "python",
   "pygments_lexer": "ipython3",
   "version": "3.8.10"
  }
 },
 "nbformat": 4,
 "nbformat_minor": 5
}
