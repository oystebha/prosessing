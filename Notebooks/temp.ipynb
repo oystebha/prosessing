{
 "cells": [
  {
   "cell_type": "code",
   "execution_count": 1,
   "id": "b981f9fb-01ce-41a8-94fa-bc9f9ac8d5bf",
   "metadata": {},
   "outputs": [],
   "source": [
    "import os\n",
    "import pandas as pd\n",
    "import numpy as np\n",
    "\n",
    "from tsfresh import extract_features\n",
    "from tsfresh.feature_extraction import MinimalFCParameters"
   ]
  },
  {
   "cell_type": "code",
   "execution_count": 3,
   "id": "7616b26a-8f99-441f-8788-9b779847ccde",
   "metadata": {},
   "outputs": [],
   "source": [
    "input_dir_path = '../analysis/ready_group/temp'\n",
    "output_dir = '../extracted_features/computed_ready/temp'"
   ]
  },
  {
   "cell_type": "code",
   "execution_count": 16,
   "id": "efd3ff75-fad1-4f2d-80f6-b59d57026028",
   "metadata": {},
   "outputs": [
    {
     "name": "stdout",
     "output_type": "stream",
     "text": [
      "f10031_temp_measures.csv\n"
     ]
    },
    {
     "name": "stderr",
     "output_type": "stream",
     "text": [
      "Feature Extraction: 100%|██████████████████████████████████████████████████| 20/20 [00:00<00:00, 298.81it/s]\n",
      "Feature Extraction: 100%|██████████████████████████████████████████████████| 20/20 [00:00<00:00, 220.60it/s]"
     ]
    },
    {
     "name": "stdout",
     "output_type": "stream",
     "text": [
      "f10041_temp_measures.csv\n"
     ]
    },
    {
     "name": "stderr",
     "output_type": "stream",
     "text": [
      "\n",
      "Feature Extraction: 100%|██████████████████████████████████████████████████| 20/20 [00:00<00:00, 147.37it/s]\n",
      "Feature Extraction: 100%|██████████████████████████████████████████████████| 20/20 [00:00<00:00, 162.68it/s]\n"
     ]
    },
    {
     "name": "stdout",
     "output_type": "stream",
     "text": [
      "10017_temp_measures.csv\n"
     ]
    },
    {
     "name": "stderr",
     "output_type": "stream",
     "text": [
      "Feature Extraction: 100%|██████████████████████████████████████████████████| 20/20 [00:00<00:00, 230.38it/s]\n",
      "Feature Extraction: 100%|██████████████████████████████████████████████████| 20/20 [00:00<00:00, 255.87it/s]"
     ]
    },
    {
     "name": "stdout",
     "output_type": "stream",
     "text": [
      "f10007_temp_measures.csv\n"
     ]
    },
    {
     "name": "stderr",
     "output_type": "stream",
     "text": [
      "\n",
      "Feature Extraction: 100%|██████████████████████████████████████████████████| 20/20 [00:00<00:00, 116.37it/s]\n",
      "Feature Extraction: 100%|██████████████████████████████████████████████████| 20/20 [00:00<00:00, 143.84it/s]"
     ]
    },
    {
     "name": "stdout",
     "output_type": "stream",
     "text": [
      "10019_temp_measures.csv\n"
     ]
    },
    {
     "name": "stderr",
     "output_type": "stream",
     "text": [
      "\n",
      "Feature Extraction: 100%|██████████████████████████████████████████████████| 20/20 [00:00<00:00, 157.50it/s]\n",
      "Feature Extraction: 100%|██████████████████████████████████████████████████| 20/20 [00:00<00:00, 182.34it/s]\n"
     ]
    },
    {
     "name": "stdout",
     "output_type": "stream",
     "text": [
      "f10021_temp_measures.csv\n"
     ]
    },
    {
     "name": "stderr",
     "output_type": "stream",
     "text": [
      "Feature Extraction: 100%|██████████████████████████████████████████████████| 20/20 [00:00<00:00, 144.75it/s]\n",
      "Feature Extraction: 100%|██████████████████████████████████████████████████| 20/20 [00:00<00:00, 154.16it/s]\n"
     ]
    },
    {
     "name": "stdout",
     "output_type": "stream",
     "text": [
      "10009_temp_measures.csv\n"
     ]
    },
    {
     "name": "stderr",
     "output_type": "stream",
     "text": [
      "Feature Extraction: 100%|██████████████████████████████████████████████████| 20/20 [00:00<00:00, 191.95it/s]\n",
      "Feature Extraction: 100%|██████████████████████████████████████████████████| 20/20 [00:00<00:00, 229.82it/s]"
     ]
    },
    {
     "name": "stdout",
     "output_type": "stream",
     "text": [
      "f10081_temp_measures.csv\n"
     ]
    },
    {
     "name": "stderr",
     "output_type": "stream",
     "text": [
      "\n",
      "Feature Extraction: 100%|██████████████████████████████████████████████████| 20/20 [00:00<00:00, 141.17it/s]\n",
      "Feature Extraction: 100%|██████████████████████████████████████████████████| 20/20 [00:00<00:00, 173.49it/s]\n"
     ]
    },
    {
     "name": "stdout",
     "output_type": "stream",
     "text": [
      "10010_temp_measures.csv\n"
     ]
    },
    {
     "name": "stderr",
     "output_type": "stream",
     "text": [
      "Feature Extraction: 100%|██████████████████████████████████████████████████| 20/20 [00:00<00:00, 136.21it/s]\n",
      "Feature Extraction: 100%|██████████████████████████████████████████████████| 20/20 [00:00<00:00, 139.98it/s]"
     ]
    },
    {
     "name": "stdout",
     "output_type": "stream",
     "text": [
      "f10004_temp_measures.csv\n"
     ]
    },
    {
     "name": "stderr",
     "output_type": "stream",
     "text": [
      "\n",
      "Feature Extraction: 100%|██████████████████████████████████████████████████| 20/20 [00:00<00:00, 226.20it/s]\n",
      "Feature Extraction: 100%|██████████████████████████████████████████████████| 20/20 [00:00<00:00, 249.59it/s]"
     ]
    },
    {
     "name": "stdout",
     "output_type": "stream",
     "text": [
      "10006_temp_measures.csv\n"
     ]
    },
    {
     "name": "stderr",
     "output_type": "stream",
     "text": [
      "\n",
      "Feature Extraction: 100%|██████████████████████████████████████████████████| 20/20 [00:00<00:00, 119.14it/s]\n",
      "Feature Extraction: 100%|██████████████████████████████████████████████████| 20/20 [00:00<00:00, 168.47it/s]\n"
     ]
    },
    {
     "name": "stdout",
     "output_type": "stream",
     "text": [
      "f10001_temp_measures.csv\n"
     ]
    },
    {
     "name": "stderr",
     "output_type": "stream",
     "text": [
      "Feature Extraction: 100%|██████████████████████████████████████████████████| 20/20 [00:00<00:00, 119.61it/s]\n",
      "Feature Extraction: 100%|██████████████████████████████████████████████████| 20/20 [00:00<00:00, 104.00it/s]"
     ]
    },
    {
     "name": "stdout",
     "output_type": "stream",
     "text": [
      "10015_temp_measures.csv\n"
     ]
    },
    {
     "name": "stderr",
     "output_type": "stream",
     "text": [
      "\n",
      "Feature Extraction: 100%|██████████████████████████████████████████████████| 20/20 [00:00<00:00, 128.39it/s]\n",
      "Feature Extraction: 100%|████████████████████████████████████████████████████| 3/3 [00:00<00:00, 862.73it/s]"
     ]
    },
    {
     "name": "stdout",
     "output_type": "stream",
     "text": [
      "f10006_temp_measures.csv\n"
     ]
    },
    {
     "name": "stderr",
     "output_type": "stream",
     "text": [
      "\n",
      "Feature Extraction: 100%|██████████████████████████████████████████████████| 20/20 [00:00<00:00, 140.06it/s]\n",
      "Feature Extraction: 100%|██████████████████████████████████████████████████| 20/20 [00:00<00:00, 177.85it/s]\n"
     ]
    },
    {
     "name": "stdout",
     "output_type": "stream",
     "text": [
      "10012_temp_measures.csv\n"
     ]
    },
    {
     "name": "stderr",
     "output_type": "stream",
     "text": [
      "Feature Extraction: 100%|███████████████████████████████████████████████████| 20/20 [00:00<00:00, 61.79it/s]\n",
      "Feature Extraction: 100%|██████████████████████████████████████████████████| 20/20 [00:00<00:00, 170.45it/s]\n"
     ]
    },
    {
     "name": "stdout",
     "output_type": "stream",
     "text": [
      "f10005_temp_measures.csv\n"
     ]
    },
    {
     "name": "stderr",
     "output_type": "stream",
     "text": [
      "Feature Extraction: 100%|██████████████████████████████████████████████████| 20/20 [00:00<00:00, 274.00it/s]\n",
      "Feature Extraction: 100%|██████████████████████████████████████████████████| 20/20 [00:00<00:00, 186.74it/s]"
     ]
    },
    {
     "name": "stdout",
     "output_type": "stream",
     "text": [
      "10011_temp_measures.csv\n"
     ]
    },
    {
     "name": "stderr",
     "output_type": "stream",
     "text": [
      "\n",
      "Feature Extraction: 100%|██████████████████████████████████████████████████| 20/20 [00:00<00:00, 123.66it/s]\n",
      "Feature Extraction: 100%|██████████████████████████████████████████████████| 20/20 [00:00<00:00, 214.00it/s]\n"
     ]
    },
    {
     "name": "stdout",
     "output_type": "stream",
     "text": [
      "f10071_temp_measures.csv\n"
     ]
    },
    {
     "name": "stderr",
     "output_type": "stream",
     "text": [
      "Feature Extraction: 100%|██████████████████████████████████████████████████| 20/20 [00:00<00:00, 138.66it/s]\n",
      "Feature Extraction: 100%|██████████████████████████████████████████████████| 20/20 [00:00<00:00, 136.28it/s]\n"
     ]
    },
    {
     "name": "stdout",
     "output_type": "stream",
     "text": [
      "f10003_temp_measures.csv\n"
     ]
    },
    {
     "name": "stderr",
     "output_type": "stream",
     "text": [
      "Feature Extraction: 100%|██████████████████████████████████████████████████| 20/20 [00:00<00:00, 121.37it/s]\n",
      "Feature Extraction: 100%|██████████████████████████████████████████████████| 20/20 [00:00<00:00, 170.19it/s]\n"
     ]
    },
    {
     "name": "stdout",
     "output_type": "stream",
     "text": [
      "f10002_temp_measures.csv\n"
     ]
    },
    {
     "name": "stderr",
     "output_type": "stream",
     "text": [
      "Feature Extraction: 100%|██████████████████████████████████████████████████| 20/20 [00:00<00:00, 162.59it/s]\n",
      "Feature Extraction: 100%|██████████████████████████████████████████████████| 20/20 [00:00<00:00, 148.62it/s]\n"
     ]
    },
    {
     "name": "stdout",
     "output_type": "stream",
     "text": [
      "10013_temp_measures.csv\n"
     ]
    },
    {
     "name": "stderr",
     "output_type": "stream",
     "text": [
      "Feature Extraction: 100%|██████████████████████████████████████████████████| 20/20 [00:00<00:00, 133.20it/s]\n",
      "Feature Extraction: 100%|██████████████████████████████████████████████████| 20/20 [00:00<00:00, 147.48it/s]\n"
     ]
    },
    {
     "name": "stdout",
     "output_type": "stream",
     "text": [
      "10020_temp_measures.csv\n"
     ]
    },
    {
     "name": "stderr",
     "output_type": "stream",
     "text": [
      "Feature Extraction: 100%|██████████████████████████████████████████████████| 20/20 [00:00<00:00, 144.65it/s]\n",
      "Feature Extraction: 100%|██████████████████████████████████████████████████| 20/20 [00:00<00:00, 133.80it/s]"
     ]
    },
    {
     "name": "stdout",
     "output_type": "stream",
     "text": [
      "10008_temp_measures.csv\n"
     ]
    },
    {
     "name": "stderr",
     "output_type": "stream",
     "text": [
      "\n",
      "Feature Extraction: 100%|██████████████████████████████████████████████████| 20/20 [00:00<00:00, 242.05it/s]\n",
      "Feature Extraction: 100%|██████████████████████████████████████████████████| 20/20 [00:00<00:00, 202.64it/s]"
     ]
    },
    {
     "name": "stdout",
     "output_type": "stream",
     "text": [
      "10007_temp_measures.csv\n"
     ]
    },
    {
     "name": "stderr",
     "output_type": "stream",
     "text": [
      "\n",
      "Feature Extraction: 100%|██████████████████████████████████████████████████| 20/20 [00:00<00:00, 163.84it/s]\n",
      "Feature Extraction: 100%|██████████████████████████████████████████████████| 20/20 [00:00<00:00, 194.27it/s]\n"
     ]
    },
    {
     "name": "stdout",
     "output_type": "stream",
     "text": [
      "f10061_temp_measures.csv\n"
     ]
    },
    {
     "name": "stderr",
     "output_type": "stream",
     "text": [
      "Feature Extraction: 100%|██████████████████████████████████████████████████| 20/20 [00:00<00:00, 135.16it/s]\n",
      "Feature Extraction: 100%|██████████████████████████████████████████████████| 20/20 [00:00<00:00, 156.04it/s]\n"
     ]
    },
    {
     "name": "stdout",
     "output_type": "stream",
     "text": [
      "f10051_temp_measures.csv\n"
     ]
    },
    {
     "name": "stderr",
     "output_type": "stream",
     "text": [
      "Feature Extraction: 100%|██████████████████████████████████████████████████| 20/20 [00:00<00:00, 134.18it/s]\n",
      "Feature Extraction: 100%|██████████████████████████████████████████████████| 20/20 [00:00<00:00, 205.74it/s]\n"
     ]
    },
    {
     "name": "stdout",
     "output_type": "stream",
     "text": [
      "10016_temp_measures.csv\n"
     ]
    },
    {
     "name": "stderr",
     "output_type": "stream",
     "text": [
      "Feature Extraction: 100%|██████████████████████████████████████████████████| 20/20 [00:00<00:00, 133.37it/s]\n",
      "Feature Extraction: 100%|██████████████████████████████████████████████████| 20/20 [00:00<00:00, 175.23it/s]\n"
     ]
    },
    {
     "name": "stdout",
     "output_type": "stream",
     "text": [
      "10018_temp_measures.csv\n"
     ]
    },
    {
     "name": "stderr",
     "output_type": "stream",
     "text": [
      "Feature Extraction: 100%|██████████████████████████████████████████████████| 20/20 [00:00<00:00, 154.17it/s]\n",
      "Feature Extraction: 100%|██████████████████████████████████████████████████| 20/20 [00:00<00:00, 173.20it/s]\n"
     ]
    },
    {
     "name": "stdout",
     "output_type": "stream",
     "text": [
      "10014_temp_measures.csv\n"
     ]
    },
    {
     "name": "stderr",
     "output_type": "stream",
     "text": [
      "Feature Extraction: 100%|██████████████████████████████████████████████████| 20/20 [00:00<00:00, 125.42it/s]\n",
      "Feature Extraction: 100%|██████████████████████████████████████████████████| 20/20 [00:00<00:00, 308.93it/s]\n"
     ]
    }
   ],
   "source": [
    "for filename in os.listdir(input_dir_path):\n",
    "    if filename == '.ipynb_checkpoints':\n",
    "        continue  # Skip the .ipynb_checkpoints directory\n",
    "\n",
    "    print(filename)\n",
    "    df_id = filename.split('_')[0]\n",
    "    input_df = pd.read_csv(os.path.join(input_dir_path, filename))\n",
    "    input_df = input_df.apply(pd.to_numeric, errors='coerce')\n",
    "    input_df.drop(\"window.1\", inplace=True, axis=1)\n",
    "    input_df.drop(\"timestamp\", inplace=True, axis=1)\n",
    "    input_df['window'] = np.arange(len(input_df))\n",
    "    input_df.fillna(0, inplace=True)\n",
    "\n",
    "    settings = MinimalFCParameters()\n",
    "\n",
    "    stress_values_mean = extract_features(input_df, column_id='stress_values_mean', column_sort='window', default_fc_parameters=settings)\n",
    "    stress_values_mean.dropna(axis=1, how='all', inplace=True)\n",
    "\n",
    "    stress_values_diff = extract_features(input_df, column_id='stress_values_diff', column_sort='window', default_fc_parameters=settings)\n",
    "    stress_values_diff.dropna(axis=1, how='all', inplace=True)\n",
    "\n",
    "    df1 = stress_values_mean.reset_index(drop=True)\n",
    "    df2 = stress_values_diff.reset_index(drop=True)\n",
    "    \n",
    "    main_df = input_df.reset_index(drop=True)\n",
    "\n",
    "    extracted_temp_feat = pd.concat([df1, df2], axis=1)\n",
    "    temp_features = pd.concat([main_df, extracted_temp_feat], axis=1)\n",
    "\n",
    "    #cols_to_drop = []\n",
    "    #for col in cog_df_features.columns:\n",
    "    #    if cog_df_features[col].nunique() == 1:\n",
    "    #        cols_to_drop.append(col)\n",
    "\n",
    "    #cog_df_features.drop(cols_to_drop, axis=1, inplace=True)\n",
    "\n",
    "    output_filename = f\"{df_id}_temp_features.csv\"\n",
    "    temp_features.to_csv(os.path.join(output_dir, output_filename), index=False)"
   ]
  }
 ],
 "metadata": {
  "kernelspec": {
   "display_name": "Python 3 (ipykernel)",
   "language": "python",
   "name": "python3"
  },
  "language_info": {
   "codemirror_mode": {
    "name": "ipython",
    "version": 3
   },
   "file_extension": ".py",
   "mimetype": "text/x-python",
   "name": "python",
   "nbconvert_exporter": "python",
   "pygments_lexer": "ipython3",
   "version": "3.8.10"
  }
 },
 "nbformat": 4,
 "nbformat_minor": 5
}
