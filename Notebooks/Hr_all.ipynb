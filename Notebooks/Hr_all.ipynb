{
 "cells": [
  {
   "cell_type": "code",
   "execution_count": null,
   "id": "e5338d6d-cb7f-4b74-8d17-2aa25b4dd2bd",
   "metadata": {},
   "outputs": [],
   "source": [
    "import sys\n",
    "!{sys.executable} -m pip install numpy\n",
    "!{sys.executable} -m pip install pandas\n",
    "!{sys.executable} -m pip install tsfresh"
   ]
  },
  {
   "cell_type": "code",
   "execution_count": 8,
   "id": "b40d5aba-77eb-4d76-8da2-9e27461efb25",
   "metadata": {},
   "outputs": [],
   "source": [
    "import os\n",
    "import pandas as pd\n",
    "import numpy as np\n",
    "\n",
    "from tsfresh import extract_features\n",
    "from tsfresh.feature_extraction import MinimalFCParameters"
   ]
  },
  {
   "cell_type": "code",
   "execution_count": null,
   "id": "d7f5ff8d-d887-4ee1-9c7b-8282c591a633",
   "metadata": {},
   "outputs": [],
   "source": [
    "#List of columns\n",
    "Index(['window', '132_avg_hr', '132_hr_variance', '132_max_hr', '132_min_hr',\n",
    "       '132_hr_diff', '132_autocorrelation_1', '132_autocorrelation_2',\n",
    "       '132_approximate_entropy', '132_autocorrelation_sum', '131_avg_hr',\n",
    "       '131_hr_variance', '131_max_hr', '131_min_hr', '131_hr_diff',\n",
    "       '131_autocorrelation_1', '131_autocorrelation_2',\n",
    "       '131_approximate_entropy', '131_autocorrelation_sum', 'avg_hr_mean',\n",
    "       'hr_variance', 'max_hr_mean', 'min_hr_meand', 'hr_diff',\n",
    "       'autocorrelation_1_mean', 'autocorrelation_2_mean',\n",
    "       'approximate_entropy', 'autocorrelation_sum_mean', 'avg_hr_diff',\n",
    "       'hr_variance_diff', 'max_hr_mean_diff', 'min_hr_meand_diff',\n",
    "       'hr_diff_diff', 'autocorrelation_1_mean_diff',\n",
    "       'autocorrelation_2_mean_diff', 'approximate_entropy_diff'],\n",
    "      dtype='object')\n",
    "('forward_to_total_saccade', 'percieved_difficulty_mean', 'IPI', 'IPI_diff')"
   ]
  },
  {
   "cell_type": "code",
   "execution_count": 13,
   "id": "732b98ff-2a00-4b9b-bcc0-8d626ac96319",
   "metadata": {},
   "outputs": [],
   "source": [
    "input_dir_path = '../analysis/ready_group/hr'\n",
    "output_dir = '../extracted_features/computed_ready/hr'\n"
   ]
  },
  {
   "cell_type": "code",
   "execution_count": 15,
   "id": "f6fc45e5-bc25-416c-b9b1-384f6b13ee93",
   "metadata": {},
   "outputs": [
    {
     "name": "stdout",
     "output_type": "stream",
     "text": [
      "10019_hr_measures.csv\n"
     ]
    },
    {
     "name": "stderr",
     "output_type": "stream",
     "text": [
      "Feature Extraction: 100%|███████████████████████████████████████████████████████████████████████████████████████████| 20/20 [00:04<00:00,  4.92it/s]\n",
      "Feature Extraction: 100%|███████████████████████████████████████████████████████████████████████████████████████████| 20/20 [00:04<00:00,  4.34it/s]\n",
      "Feature Extraction: 100%|███████████████████████████████████████████████████████████████████████████████████████████| 20/20 [00:04<00:00,  4.70it/s]\n"
     ]
    },
    {
     "name": "stdout",
     "output_type": "stream",
     "text": [
      "f10006_hr_measures.csv\n"
     ]
    },
    {
     "name": "stderr",
     "output_type": "stream",
     "text": [
      "Feature Extraction: 100%|███████████████████████████████████████████████████████████████████████████████████████████| 20/20 [00:00<00:00, 27.28it/s]\n",
      "Feature Extraction: 100%|███████████████████████████████████████████████████████████████████████████████████████████| 20/20 [00:01<00:00, 17.71it/s]\n",
      "Feature Extraction: 100%|███████████████████████████████████████████████████████████████████████████████████████████| 20/20 [00:00<00:00, 23.50it/s]\n"
     ]
    },
    {
     "name": "stdout",
     "output_type": "stream",
     "text": [
      "f10051_hr_measures.csv\n"
     ]
    },
    {
     "name": "stderr",
     "output_type": "stream",
     "text": [
      "Feature Extraction: 100%|███████████████████████████████████████████████████████████████████████████████████████████| 20/20 [00:01<00:00, 10.65it/s]\n",
      "Feature Extraction: 100%|███████████████████████████████████████████████████████████████████████████████████████████| 20/20 [00:01<00:00, 10.88it/s]\n",
      "Feature Extraction: 100%|███████████████████████████████████████████████████████████████████████████████████████████| 20/20 [00:02<00:00,  9.55it/s]\n"
     ]
    },
    {
     "name": "stdout",
     "output_type": "stream",
     "text": [
      "f10071_hr_measures.csv\n"
     ]
    },
    {
     "name": "stderr",
     "output_type": "stream",
     "text": [
      "Feature Extraction: 100%|███████████████████████████████████████████████████████████████████████████████████████████| 20/20 [00:00<00:00, 32.34it/s]\n",
      "Feature Extraction: 100%|███████████████████████████████████████████████████████████████████████████████████████████| 20/20 [00:00<00:00, 31.36it/s]\n",
      "Feature Extraction: 100%|███████████████████████████████████████████████████████████████████████████████████████████| 20/20 [00:00<00:00, 30.37it/s]\n"
     ]
    },
    {
     "name": "stdout",
     "output_type": "stream",
     "text": [
      "f10003_hr_measures.csv\n"
     ]
    },
    {
     "name": "stderr",
     "output_type": "stream",
     "text": [
      "Feature Extraction: 100%|███████████████████████████████████████████████████████████████████████████████████████████| 20/20 [00:02<00:00,  7.93it/s]\n",
      "Feature Extraction: 100%|███████████████████████████████████████████████████████████████████████████████████████████| 20/20 [00:02<00:00,  9.92it/s]\n",
      "Feature Extraction: 100%|███████████████████████████████████████████████████████████████████████████████████████████| 20/20 [00:02<00:00,  9.20it/s]\n"
     ]
    },
    {
     "name": "stdout",
     "output_type": "stream",
     "text": [
      "10007_hr_measures.csv\n"
     ]
    },
    {
     "name": "stderr",
     "output_type": "stream",
     "text": [
      "Feature Extraction: 100%|███████████████████████████████████████████████████████████████████████████████████████████| 20/20 [00:04<00:00,  4.52it/s]\n",
      "Feature Extraction: 100%|███████████████████████████████████████████████████████████████████████████████████████████| 20/20 [00:04<00:00,  4.41it/s]\n",
      "Feature Extraction: 100%|███████████████████████████████████████████████████████████████████████████████████████████| 20/20 [00:03<00:00,  5.27it/s]\n"
     ]
    },
    {
     "name": "stdout",
     "output_type": "stream",
     "text": [
      "10006_hr_measures.csv\n"
     ]
    },
    {
     "name": "stderr",
     "output_type": "stream",
     "text": [
      "Feature Extraction: 100%|███████████████████████████████████████████████████████████████████████████████████████████| 20/20 [00:04<00:00,  4.60it/s]\n",
      "Feature Extraction: 100%|███████████████████████████████████████████████████████████████████████████████████████████| 20/20 [00:04<00:00,  4.60it/s]\n",
      "Feature Extraction: 100%|███████████████████████████████████████████████████████████████████████████████████████████| 20/20 [00:04<00:00,  4.52it/s]\n"
     ]
    },
    {
     "name": "stdout",
     "output_type": "stream",
     "text": [
      "10013_hr_measures.csv\n"
     ]
    },
    {
     "name": "stderr",
     "output_type": "stream",
     "text": [
      "Feature Extraction: 100%|███████████████████████████████████████████████████████████████████████████████████████████| 20/20 [00:03<00:00,  5.65it/s]\n",
      "Feature Extraction: 100%|███████████████████████████████████████████████████████████████████████████████████████████| 20/20 [00:04<00:00,  4.86it/s]\n",
      "Feature Extraction: 100%|███████████████████████████████████████████████████████████████████████████████████████████| 20/20 [00:04<00:00,  4.32it/s]\n"
     ]
    },
    {
     "name": "stdout",
     "output_type": "stream",
     "text": [
      "10020_hr_measures.csv\n"
     ]
    },
    {
     "name": "stderr",
     "output_type": "stream",
     "text": [
      "Feature Extraction: 100%|███████████████████████████████████████████████████████████████████████████████████████████| 20/20 [00:03<00:00,  5.31it/s]\n",
      "Feature Extraction: 100%|███████████████████████████████████████████████████████████████████████████████████████████| 20/20 [00:03<00:00,  5.03it/s]\n",
      "Feature Extraction: 100%|███████████████████████████████████████████████████████████████████████████████████████████| 20/20 [00:03<00:00,  5.05it/s]\n"
     ]
    },
    {
     "name": "stdout",
     "output_type": "stream",
     "text": [
      "f10005_hr_measures.csv\n"
     ]
    },
    {
     "name": "stderr",
     "output_type": "stream",
     "text": [
      "Feature Extraction: 100%|███████████████████████████████████████████████████████████████████████████████████████████| 20/20 [00:01<00:00, 10.75it/s]\n",
      "Feature Extraction: 100%|███████████████████████████████████████████████████████████████████████████████████████████| 20/20 [00:01<00:00, 10.26it/s]\n",
      "Feature Extraction: 100%|███████████████████████████████████████████████████████████████████████████████████████████| 20/20 [00:01<00:00, 18.35it/s]\n"
     ]
    },
    {
     "name": "stdout",
     "output_type": "stream",
     "text": [
      "f10031_hr_measures.csv\n"
     ]
    },
    {
     "name": "stderr",
     "output_type": "stream",
     "text": [
      "Feature Extraction: 100%|███████████████████████████████████████████████████████████████████████████████████████████| 20/20 [00:01<00:00, 15.83it/s]\n",
      "Feature Extraction: 100%|███████████████████████████████████████████████████████████████████████████████████████████| 20/20 [00:00<00:00, 22.96it/s]\n",
      "Feature Extraction: 100%|███████████████████████████████████████████████████████████████████████████████████████████| 20/20 [00:01<00:00, 19.21it/s]\n"
     ]
    },
    {
     "name": "stdout",
     "output_type": "stream",
     "text": [
      "10008_hr_measures.csv\n"
     ]
    },
    {
     "name": "stderr",
     "output_type": "stream",
     "text": [
      "Feature Extraction: 100%|███████████████████████████████████████████████████████████████████████████████████████████| 20/20 [00:02<00:00,  6.87it/s]\n",
      "Feature Extraction: 100%|███████████████████████████████████████████████████████████████████████████████████████████| 20/20 [00:03<00:00,  5.50it/s]\n",
      "Feature Extraction: 100%|███████████████████████████████████████████████████████████████████████████████████████████| 20/20 [00:02<00:00,  7.81it/s]\n"
     ]
    },
    {
     "name": "stdout",
     "output_type": "stream",
     "text": [
      "f10081_hr_measures.csv\n"
     ]
    },
    {
     "name": "stderr",
     "output_type": "stream",
     "text": [
      "Feature Extraction: 100%|███████████████████████████████████████████████████████████████████████████████████████████| 20/20 [00:02<00:00,  7.78it/s]\n",
      "Feature Extraction: 100%|███████████████████████████████████████████████████████████████████████████████████████████| 20/20 [00:02<00:00,  6.76it/s]\n",
      "Feature Extraction: 100%|██████████████████████████████████████████████████████████████████████████████████████████| 20/20 [00:00<00:00, 133.74it/s]\n"
     ]
    },
    {
     "name": "stdout",
     "output_type": "stream",
     "text": [
      "10018_hr_measures.csv\n"
     ]
    },
    {
     "name": "stderr",
     "output_type": "stream",
     "text": [
      "Feature Extraction: 100%|███████████████████████████████████████████████████████████████████████████████████████████| 20/20 [00:03<00:00,  5.04it/s]\n",
      "Feature Extraction: 100%|███████████████████████████████████████████████████████████████████████████████████████████| 20/20 [00:04<00:00,  4.60it/s]\n",
      "Feature Extraction: 100%|███████████████████████████████████████████████████████████████████████████████████████████| 20/20 [00:04<00:00,  4.71it/s]\n"
     ]
    },
    {
     "name": "stdout",
     "output_type": "stream",
     "text": [
      "10016_hr_measures.csv\n"
     ]
    },
    {
     "name": "stderr",
     "output_type": "stream",
     "text": [
      "Feature Extraction: 100%|███████████████████████████████████████████████████████████████████████████████████████████| 20/20 [00:04<00:00,  4.78it/s]\n",
      "Feature Extraction: 100%|███████████████████████████████████████████████████████████████████████████████████████████| 20/20 [00:05<00:00,  3.75it/s]\n",
      "Feature Extraction: 100%|███████████████████████████████████████████████████████████████████████████████████████████| 20/20 [00:04<00:00,  4.63it/s]\n"
     ]
    },
    {
     "name": "stdout",
     "output_type": "stream",
     "text": [
      "f10002_hr_measures.csv\n"
     ]
    },
    {
     "name": "stderr",
     "output_type": "stream",
     "text": [
      "Feature Extraction: 100%|███████████████████████████████████████████████████████████████████████████████████████████| 20/20 [00:01<00:00, 10.91it/s]\n",
      "Feature Extraction: 100%|███████████████████████████████████████████████████████████████████████████████████████████| 20/20 [00:01<00:00, 12.29it/s]\n",
      "Feature Extraction: 100%|███████████████████████████████████████████████████████████████████████████████████████████| 20/20 [00:01<00:00, 16.88it/s]\n"
     ]
    },
    {
     "name": "stdout",
     "output_type": "stream",
     "text": [
      "f10041_hr_measures.csv\n"
     ]
    },
    {
     "name": "stderr",
     "output_type": "stream",
     "text": [
      "Feature Extraction: 100%|███████████████████████████████████████████████████████████████████████████████████████████| 20/20 [00:01<00:00, 16.69it/s]\n",
      "Feature Extraction: 100%|███████████████████████████████████████████████████████████████████████████████████████████| 20/20 [00:01<00:00, 18.36it/s]\n",
      "Feature Extraction: 100%|███████████████████████████████████████████████████████████████████████████████████████████| 20/20 [00:00<00:00, 21.19it/s]\n"
     ]
    },
    {
     "name": "stdout",
     "output_type": "stream",
     "text": [
      "10014_hr_measures.csv\n"
     ]
    },
    {
     "name": "stderr",
     "output_type": "stream",
     "text": [
      "Feature Extraction: 100%|███████████████████████████████████████████████████████████████████████████████████████████| 20/20 [00:04<00:00,  4.22it/s]\n",
      "Feature Extraction: 100%|███████████████████████████████████████████████████████████████████████████████████████████| 20/20 [00:04<00:00,  4.05it/s]\n",
      "Feature Extraction: 100%|███████████████████████████████████████████████████████████████████████████████████████████| 20/20 [00:02<00:00,  9.70it/s]\n"
     ]
    },
    {
     "name": "stdout",
     "output_type": "stream",
     "text": [
      "10011_hr_measures.csv\n"
     ]
    },
    {
     "name": "stderr",
     "output_type": "stream",
     "text": [
      "Feature Extraction: 100%|███████████████████████████████████████████████████████████████████████████████████████████| 20/20 [00:02<00:00,  7.34it/s]\n",
      "Feature Extraction: 100%|███████████████████████████████████████████████████████████████████████████████████████████| 20/20 [00:03<00:00,  5.41it/s]\n",
      "Feature Extraction: 100%|███████████████████████████████████████████████████████████████████████████████████████████| 20/20 [00:03<00:00,  5.73it/s]\n"
     ]
    },
    {
     "name": "stdout",
     "output_type": "stream",
     "text": [
      "10010_hr_measures.csv\n"
     ]
    },
    {
     "name": "stderr",
     "output_type": "stream",
     "text": [
      "Feature Extraction: 100%|███████████████████████████████████████████████████████████████████████████████████████████| 20/20 [00:04<00:00,  4.32it/s]\n",
      "Feature Extraction: 100%|███████████████████████████████████████████████████████████████████████████████████████████| 20/20 [00:04<00:00,  4.09it/s]\n",
      "Feature Extraction: 100%|███████████████████████████████████████████████████████████████████████████████████████████| 20/20 [00:04<00:00,  4.22it/s]\n"
     ]
    },
    {
     "name": "stdout",
     "output_type": "stream",
     "text": [
      "10012_hr_measures.csv\n"
     ]
    },
    {
     "name": "stderr",
     "output_type": "stream",
     "text": [
      "Feature Extraction: 100%|███████████████████████████████████████████████████████████████████████████████████████████| 20/20 [00:04<00:00,  4.26it/s]\n",
      "Feature Extraction: 100%|███████████████████████████████████████████████████████████████████████████████████████████| 20/20 [00:05<00:00,  3.99it/s]\n",
      "Feature Extraction: 100%|███████████████████████████████████████████████████████████████████████████████████████████| 20/20 [00:04<00:00,  4.38it/s]\n"
     ]
    },
    {
     "name": "stdout",
     "output_type": "stream",
     "text": [
      "f10061_hr_measures.csv\n"
     ]
    },
    {
     "name": "stderr",
     "output_type": "stream",
     "text": [
      "Feature Extraction: 100%|███████████████████████████████████████████████████████████████████████████████████████████| 20/20 [00:00<00:00, 50.90it/s]\n",
      "Feature Extraction: 100%|███████████████████████████████████████████████████████████████████████████████████████████| 20/20 [00:00<00:00, 47.31it/s]\n",
      "Feature Extraction: 100%|███████████████████████████████████████████████████████████████████████████████████████████| 20/20 [00:00<00:00, 43.50it/s]\n"
     ]
    },
    {
     "name": "stdout",
     "output_type": "stream",
     "text": [
      "10015_hr_measures.csv\n"
     ]
    },
    {
     "name": "stderr",
     "output_type": "stream",
     "text": [
      "Feature Extraction: 100%|███████████████████████████████████████████████████████████████████████████████████████████| 20/20 [00:04<00:00,  4.14it/s]\n",
      "Feature Extraction: 100%|███████████████████████████████████████████████████████████████████████████████████████████| 20/20 [00:04<00:00,  4.54it/s]\n",
      "Feature Extraction: 100%|███████████████████████████████████████████████████████████████████████████████████████████| 20/20 [00:03<00:00,  6.50it/s]\n"
     ]
    },
    {
     "name": "stdout",
     "output_type": "stream",
     "text": [
      "10017_hr_measures.csv\n"
     ]
    },
    {
     "name": "stderr",
     "output_type": "stream",
     "text": [
      "Feature Extraction: 100%|███████████████████████████████████████████████████████████████████████████████████████████| 20/20 [00:02<00:00,  9.08it/s]\n",
      "Feature Extraction: 100%|███████████████████████████████████████████████████████████████████████████████████████████| 20/20 [00:03<00:00,  6.35it/s]\n",
      "Feature Extraction: 100%|███████████████████████████████████████████████████████████████████████████████████████████| 20/20 [00:02<00:00,  8.45it/s]\n"
     ]
    },
    {
     "name": "stdout",
     "output_type": "stream",
     "text": [
      "f10001_hr_measures.csv\n"
     ]
    },
    {
     "name": "stderr",
     "output_type": "stream",
     "text": [
      "Feature Extraction: 100%|███████████████████████████████████████████████████████████████████████████████████████████| 20/20 [00:03<00:00,  6.03it/s]\n",
      "Feature Extraction: 100%|███████████████████████████████████████████████████████████████████████████████████████████| 20/20 [00:03<00:00,  6.37it/s]\n",
      "Feature Extraction: 100%|███████████████████████████████████████████████████████████████████████████████████████████| 20/20 [00:01<00:00, 14.15it/s]\n"
     ]
    },
    {
     "name": "stdout",
     "output_type": "stream",
     "text": [
      "f10004_hr_measures.csv\n"
     ]
    },
    {
     "name": "stderr",
     "output_type": "stream",
     "text": [
      "Feature Extraction: 100%|███████████████████████████████████████████████████████████████████████████████████████████| 20/20 [00:01<00:00, 13.68it/s]\n",
      "Feature Extraction: 100%|███████████████████████████████████████████████████████████████████████████████████████████| 20/20 [00:01<00:00, 13.00it/s]\n",
      "Feature Extraction: 100%|███████████████████████████████████████████████████████████████████████████████████████████| 20/20 [00:00<00:00, 65.37it/s]\n"
     ]
    },
    {
     "name": "stdout",
     "output_type": "stream",
     "text": [
      "f10007_hr_measures.csv\n"
     ]
    },
    {
     "name": "stderr",
     "output_type": "stream",
     "text": [
      "Feature Extraction: 100%|███████████████████████████████████████████████████████████████████████████████████████████| 20/20 [00:02<00:00,  8.72it/s]\n",
      "Feature Extraction: 100%|███████████████████████████████████████████████████████████████████████████████████████████| 20/20 [00:02<00:00,  8.24it/s]\n",
      "Feature Extraction: 100%|███████████████████████████████████████████████████████████████████████████████████████████| 20/20 [00:03<00:00,  6.31it/s]\n"
     ]
    },
    {
     "name": "stdout",
     "output_type": "stream",
     "text": [
      "f10021_hr_measures.csv\n"
     ]
    },
    {
     "name": "stderr",
     "output_type": "stream",
     "text": [
      "Feature Extraction: 100%|███████████████████████████████████████████████████████████████████████████████████████████| 20/20 [00:00<00:00, 73.96it/s]\n",
      "Feature Extraction: 100%|███████████████████████████████████████████████████████████████████████████████████████████| 20/20 [00:00<00:00, 76.35it/s]\n",
      "Feature Extraction: 100%|███████████████████████████████████████████████████████████████████████████████████████████| 20/20 [00:00<00:00, 75.85it/s]\n"
     ]
    },
    {
     "name": "stdout",
     "output_type": "stream",
     "text": [
      "10009_hr_measures.csv\n"
     ]
    },
    {
     "name": "stderr",
     "output_type": "stream",
     "text": [
      "Feature Extraction: 100%|███████████████████████████████████████████████████████████████████████████████████████████| 20/20 [00:02<00:00,  9.66it/s]\n",
      "Feature Extraction: 100%|███████████████████████████████████████████████████████████████████████████████████████████| 20/20 [00:01<00:00, 10.04it/s]\n",
      "Feature Extraction: 100%|███████████████████████████████████████████████████████████████████████████████████████████| 20/20 [00:02<00:00,  7.02it/s]\n"
     ]
    }
   ],
   "source": [
    "for filename in os.listdir(input_dir_path):\n",
    "    print(filename)\n",
    "    df_id = filename.split('_')[0]\n",
    "    input_df = pd.read_csv(os.path.join(input_dir_path, filename))\n",
    "    input_df.fillna(0, inplace=True)\n",
    "\n",
    "    settings = MinimalFCParameters()\n",
    "\n",
    "    ex_hr_mean = extract_features(input_df, column_id='avg_hr_mean', column_sort='window', default_fc_parameters=settings)\n",
    "    ex_hr_mean.dropna(axis=1, how='all', inplace=True)\n",
    "\n",
    "    ex_hr_var = extract_features(input_df, column_id='hr_variance', column_sort='window', default_fc_parameters=settings)\n",
    "    ex_hr_var.dropna(axis=1, how='all', inplace=True)\n",
    "\n",
    "    ex_avg_hr_diff = extract_features(input_df, column_id='avg_hr_diff', column_sort='window', default_fc_parameters=settings)\n",
    "    ex_avg_hr_diff.dropna(axis=1, how='all', inplace=True)\n",
    "\n",
    "\n",
    "    df1 = ex_hr_mean.reset_index(drop=True)\n",
    "    df2 = ex_hr_var.reset_index(drop=True)\n",
    "    df3 = ex_avg_hr_diff.reset_index(drop=True)\n",
    "    main_df = input_df.reset_index(drop=True)\n",
    "\n",
    "    extracted_hr_feat = pd.concat([df1, df2, df3], axis=1)\n",
    "    hr_features = pd.concat([main_df, extracted_hr_feat], axis=1)\n",
    "\n",
    "    #cols_to_drop = []\n",
    "    #for col in cog_df_features.columns:\n",
    "    #    if cog_df_features[col].nunique() == 1:\n",
    "    #        cols_to_drop.append(col)\n",
    "\n",
    "    #cog_df_features.drop(cols_to_drop, axis=1, inplace=True)\n",
    "\n",
    "    output_filename = f\"{df_id}_hr_measures.csv\"\n",
    "    hr_features.to_csv(os.path.join(output_dir, output_filename), index=False)"
   ]
  },
  {
   "cell_type": "code",
   "execution_count": null,
   "id": "76559e06-d73c-4103-8961-d14041242520",
   "metadata": {},
   "outputs": [],
   "source": [
    "display(hr_features)"
   ]
  }
 ],
 "metadata": {
  "kernelspec": {
   "display_name": "Python 3 (ipykernel)",
   "language": "python",
   "name": "python3"
  },
  "language_info": {
   "codemirror_mode": {
    "name": "ipython",
    "version": 3
   },
   "file_extension": ".py",
   "mimetype": "text/x-python",
   "name": "python",
   "nbconvert_exporter": "python",
   "pygments_lexer": "ipython3",
   "version": "3.8.10"
  }
 },
 "nbformat": 4,
 "nbformat_minor": 5
}
