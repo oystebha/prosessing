{
 "cells": [
  {
   "cell_type": "code",
   "execution_count": 1,
   "id": "d36b54d7-27ff-4bc9-aac4-513812d9cede",
   "metadata": {},
   "outputs": [],
   "source": [
    "import os\n",
    "import pandas as pd\n",
    "import numpy as np\n",
    "\n",
    "from tsfresh import extract_features\n",
    "from tsfresh.feature_extraction import MinimalFCParameters"
   ]
  },
  {
   "cell_type": "code",
   "execution_count": 2,
   "id": "8e76c9ae-f574-4192-b61d-70ab39ee4b59",
   "metadata": {},
   "outputs": [],
   "source": [
    "input_dir_path = '../analysis/ready_group/eda'\n",
    "output_dir = '../extracted_features/computed_ready/eda'"
   ]
  },
  {
   "cell_type": "code",
   "execution_count": 3,
   "id": "8e188694-eecc-4b53-9aed-e309a61b71a0",
   "metadata": {},
   "outputs": [
    {
     "name": "stdout",
     "output_type": "stream",
     "text": [
      "f10021_eda_measures.csv\n"
     ]
    },
    {
     "name": "stderr",
     "output_type": "stream",
     "text": [
      "Feature Extraction: 100%|███████████████████████████████████████████████████| 20/20 [00:00<00:00, 38.04it/s]\n",
      "Feature Extraction: 100%|██████████████████████████████████████████████████| 18/18 [00:00<00:00, 833.43it/s]\n",
      "Feature Extraction: 100%|███████████████████████████████████████████████████| 20/20 [00:00<00:00, 33.36it/s]\n",
      "Feature Extraction: 100%|███████████████████████████████████████████████████| 20/20 [00:00<00:00, 29.50it/s]\n",
      "Feature Extraction: 100%|███████████████████████████████████████████████████| 20/20 [00:00<00:00, 32.22it/s]\n",
      "Feature Extraction: 100%|█████████████████████████████████████████████████| 17/17 [00:00<00:00, 6001.44it/s]\n",
      "Feature Extraction: 100%|███████████████████████████████████████████████████| 20/20 [00:00<00:00, 27.77it/s]\n"
     ]
    },
    {
     "name": "stdout",
     "output_type": "stream",
     "text": [
      "f10081_eda_measures.csv\n"
     ]
    },
    {
     "name": "stderr",
     "output_type": "stream",
     "text": [
      "Feature Extraction: 100%|███████████████████████████████████████████████████| 20/20 [00:00<00:00, 27.34it/s]\n",
      "Feature Extraction: 100%|█████████████████████████████████████████████████| 20/20 [00:00<00:00, 1797.74it/s]\n",
      "Feature Extraction: 100%|███████████████████████████████████████████████████| 20/20 [00:00<00:00, 35.13it/s]\n",
      "Feature Extraction: 100%|███████████████████████████████████████████████████| 20/20 [00:00<00:00, 28.18it/s]\n",
      "Feature Extraction: 100%|███████████████████████████████████████████████████| 20/20 [00:00<00:00, 31.96it/s]\n",
      "Feature Extraction: 100%|█████████████████████████████████████████████████| 20/20 [00:00<00:00, 1244.53it/s]\n",
      "Feature Extraction: 100%|███████████████████████████████████████████████████| 20/20 [00:00<00:00, 21.35it/s]\n"
     ]
    },
    {
     "name": "stdout",
     "output_type": "stream",
     "text": [
      "f10002_eda_measures.csv\n"
     ]
    },
    {
     "name": "stderr",
     "output_type": "stream",
     "text": [
      "Feature Extraction: 100%|███████████████████████████████████████████████████| 20/20 [00:00<00:00, 35.94it/s]\n",
      "Feature Extraction: 100%|█████████████████████████████████████████████████| 20/20 [00:00<00:00, 3797.47it/s]\n",
      "Feature Extraction: 100%|███████████████████████████████████████████████████| 20/20 [00:00<00:00, 27.29it/s]\n",
      "Feature Extraction: 100%|███████████████████████████████████████████████████| 20/20 [00:00<00:00, 24.82it/s]\n",
      "Feature Extraction: 100%|███████████████████████████████████████████████████| 20/20 [00:00<00:00, 26.98it/s]\n",
      "Feature Extraction: 100%|█████████████████████████████████████████████████| 20/20 [00:00<00:00, 1095.72it/s]\n",
      "Feature Extraction: 100%|███████████████████████████████████████████████████| 20/20 [00:00<00:00, 32.36it/s]\n"
     ]
    },
    {
     "name": "stdout",
     "output_type": "stream",
     "text": [
      "10007_eda_measures.csv\n"
     ]
    },
    {
     "name": "stderr",
     "output_type": "stream",
     "text": [
      "Feature Extraction: 100%|███████████████████████████████████████████████████| 20/20 [00:00<00:00, 29.53it/s]\n",
      "Feature Extraction: 100%|██████████████████████████████████████████████████| 19/19 [00:00<00:00, 454.95it/s]\n",
      "Feature Extraction: 100%|███████████████████████████████████████████████████| 20/20 [00:00<00:00, 25.33it/s]\n",
      "Feature Extraction: 100%|███████████████████████████████████████████████████| 20/20 [00:00<00:00, 31.12it/s]\n",
      "Feature Extraction: 100%|███████████████████████████████████████████████████| 20/20 [00:00<00:00, 32.54it/s]\n",
      "Feature Extraction: 100%|█████████████████████████████████████████████████| 20/20 [00:00<00:00, 2652.94it/s]\n",
      "Feature Extraction: 100%|███████████████████████████████████████████████████| 20/20 [00:00<00:00, 35.53it/s]\n"
     ]
    },
    {
     "name": "stdout",
     "output_type": "stream",
     "text": [
      "10017_eda_measures.csv\n"
     ]
    },
    {
     "name": "stderr",
     "output_type": "stream",
     "text": [
      "Feature Extraction: 100%|███████████████████████████████████████████████████| 20/20 [00:00<00:00, 56.65it/s]\n",
      "Feature Extraction: 100%|█████████████████████████████████████████████████| 20/20 [00:00<00:00, 1952.93it/s]\n",
      "Feature Extraction: 100%|███████████████████████████████████████████████████| 20/20 [00:00<00:00, 46.68it/s]\n",
      "Feature Extraction: 100%|███████████████████████████████████████████████████| 20/20 [00:00<00:00, 49.40it/s]\n",
      "Feature Extraction: 100%|███████████████████████████████████████████████████| 20/20 [00:00<00:00, 56.04it/s]\n",
      "Feature Extraction: 100%|█████████████████████████████████████████████████| 19/19 [00:00<00:00, 1135.00it/s]\n",
      "Feature Extraction: 100%|███████████████████████████████████████████████████| 20/20 [00:00<00:00, 48.32it/s]\n"
     ]
    },
    {
     "name": "stdout",
     "output_type": "stream",
     "text": [
      "10011_eda_measures.csv\n"
     ]
    },
    {
     "name": "stderr",
     "output_type": "stream",
     "text": [
      "Feature Extraction: 100%|███████████████████████████████████████████████████| 20/20 [00:00<00:00, 40.32it/s]\n",
      "Feature Extraction: 100%|█████████████████████████████████████████████████| 20/20 [00:00<00:00, 1644.28it/s]\n",
      "Feature Extraction: 100%|███████████████████████████████████████████████████| 20/20 [00:00<00:00, 49.96it/s]\n",
      "Feature Extraction: 100%|███████████████████████████████████████████████████| 20/20 [00:00<00:00, 37.06it/s]\n",
      "Feature Extraction: 100%|███████████████████████████████████████████████████| 20/20 [00:00<00:00, 41.18it/s]\n",
      "Feature Extraction: 100%|█████████████████████████████████████████████████| 20/20 [00:00<00:00, 1588.69it/s]\n",
      "Feature Extraction: 100%|███████████████████████████████████████████████████| 20/20 [00:00<00:00, 41.34it/s]\n"
     ]
    },
    {
     "name": "stdout",
     "output_type": "stream",
     "text": [
      "10016_eda_measures.csv\n"
     ]
    },
    {
     "name": "stderr",
     "output_type": "stream",
     "text": [
      "Feature Extraction: 100%|███████████████████████████████████████████████████| 20/20 [00:00<00:00, 31.28it/s]\n",
      "Feature Extraction: 100%|██████████████████████████████████████████████████| 20/20 [00:00<00:00, 875.99it/s]\n",
      "Feature Extraction: 100%|███████████████████████████████████████████████████| 20/20 [00:00<00:00, 33.17it/s]\n",
      "Feature Extraction: 100%|███████████████████████████████████████████████████| 20/20 [00:00<00:00, 31.20it/s]\n",
      "Feature Extraction: 100%|███████████████████████████████████████████████████| 20/20 [00:00<00:00, 34.26it/s]\n",
      "Feature Extraction: 100%|██████████████████████████████████████████████████| 20/20 [00:00<00:00, 985.61it/s]\n",
      "Feature Extraction: 100%|███████████████████████████████████████████████████| 20/20 [00:00<00:00, 32.27it/s]\n"
     ]
    },
    {
     "name": "stdout",
     "output_type": "stream",
     "text": [
      "10018_eda_measures.csv\n"
     ]
    },
    {
     "name": "stderr",
     "output_type": "stream",
     "text": [
      "Feature Extraction: 100%|███████████████████████████████████████████████████| 20/20 [00:00<00:00, 28.83it/s]\n",
      "Feature Extraction: 100%|██████████████████████████████████████████████████| 20/20 [00:00<00:00, 984.34it/s]\n",
      "Feature Extraction: 100%|███████████████████████████████████████████████████| 20/20 [00:00<00:00, 33.15it/s]\n",
      "Feature Extraction: 100%|███████████████████████████████████████████████████| 20/20 [00:00<00:00, 27.95it/s]\n",
      "Feature Extraction: 100%|███████████████████████████████████████████████████| 20/20 [00:00<00:00, 32.23it/s]\n",
      "Feature Extraction: 100%|█████████████████████████████████████████████████| 18/18 [00:00<00:00, 6038.35it/s]\n",
      "Feature Extraction: 100%|███████████████████████████████████████████████████| 20/20 [00:00<00:00, 33.31it/s]\n"
     ]
    },
    {
     "name": "stdout",
     "output_type": "stream",
     "text": [
      "f10061_eda_measures.csv\n"
     ]
    },
    {
     "name": "stderr",
     "output_type": "stream",
     "text": [
      "Feature Extraction: 100%|███████████████████████████████████████████████████| 20/20 [00:00<00:00, 23.34it/s]\n",
      "Feature Extraction: 100%|█████████████████████████████████████████████████| 19/19 [00:00<00:00, 1187.99it/s]\n",
      "Feature Extraction: 100%|███████████████████████████████████████████████████| 20/20 [00:00<00:00, 29.79it/s]\n",
      "Feature Extraction: 100%|███████████████████████████████████████████████████| 20/20 [00:00<00:00, 26.25it/s]\n",
      "Feature Extraction: 100%|███████████████████████████████████████████████████| 20/20 [00:00<00:00, 30.95it/s]\n",
      "Feature Extraction: 100%|█████████████████████████████████████████████████| 19/19 [00:00<00:00, 1276.56it/s]\n",
      "Feature Extraction: 100%|███████████████████████████████████████████████████| 20/20 [00:00<00:00, 27.24it/s]\n"
     ]
    },
    {
     "name": "stdout",
     "output_type": "stream",
     "text": [
      "f10004_eda_measures.csv\n"
     ]
    },
    {
     "name": "stderr",
     "output_type": "stream",
     "text": [
      "Feature Extraction: 100%|███████████████████████████████████████████████████| 20/20 [00:00<00:00, 48.69it/s]\n",
      "Feature Extraction: 100%|█████████████████████████████████████████████████| 19/19 [00:00<00:00, 2950.13it/s]\n",
      "Feature Extraction: 100%|███████████████████████████████████████████████████| 20/20 [00:00<00:00, 42.47it/s]\n",
      "Feature Extraction: 100%|███████████████████████████████████████████████████| 20/20 [00:00<00:00, 50.38it/s]\n",
      "Feature Extraction: 100%|███████████████████████████████████████████████████| 20/20 [00:00<00:00, 40.16it/s]\n",
      "Feature Extraction: 100%|█████████████████████████████████████████████████| 17/17 [00:00<00:00, 1835.16it/s]\n",
      "Feature Extraction: 100%|███████████████████████████████████████████████████| 20/20 [00:00<00:00, 41.45it/s]\n"
     ]
    },
    {
     "name": "stdout",
     "output_type": "stream",
     "text": [
      "10008_eda_measures.csv\n"
     ]
    },
    {
     "name": "stderr",
     "output_type": "stream",
     "text": [
      "Feature Extraction: 100%|███████████████████████████████████████████████████| 20/20 [00:00<00:00, 37.46it/s]\n",
      "Feature Extraction: 100%|██████████████████████████████████████████████████| 20/20 [00:00<00:00, 702.75it/s]\n",
      "Feature Extraction: 100%|███████████████████████████████████████████████████| 20/20 [00:00<00:00, 35.09it/s]\n",
      "Feature Extraction: 100%|███████████████████████████████████████████████████| 20/20 [00:00<00:00, 57.84it/s]\n",
      "Feature Extraction: 100%|███████████████████████████████████████████████████| 20/20 [00:00<00:00, 46.16it/s]\n",
      "Feature Extraction: 100%|█████████████████████████████████████████████████| 18/18 [00:00<00:00, 5767.13it/s]\n",
      "Feature Extraction: 100%|███████████████████████████████████████████████████| 20/20 [00:00<00:00, 51.84it/s]\n"
     ]
    },
    {
     "name": "stdout",
     "output_type": "stream",
     "text": [
      "10009_eda_measures.csv\n"
     ]
    },
    {
     "name": "stderr",
     "output_type": "stream",
     "text": [
      "Feature Extraction: 100%|███████████████████████████████████████████████████| 20/20 [00:00<00:00, 51.09it/s]\n",
      "Feature Extraction: 100%|█████████████████████████████████████████████████| 20/20 [00:00<00:00, 1527.31it/s]\n",
      "Feature Extraction: 100%|███████████████████████████████████████████████████| 20/20 [00:00<00:00, 65.05it/s]\n",
      "Feature Extraction: 100%|███████████████████████████████████████████████████| 20/20 [00:00<00:00, 56.52it/s]\n",
      "Feature Extraction: 100%|███████████████████████████████████████████████████| 20/20 [00:00<00:00, 62.50it/s]\n",
      "Feature Extraction: 100%|█████████████████████████████████████████████████| 18/18 [00:00<00:00, 2308.93it/s]\n",
      "Feature Extraction: 100%|███████████████████████████████████████████████████| 20/20 [00:00<00:00, 56.71it/s]\n"
     ]
    },
    {
     "name": "stdout",
     "output_type": "stream",
     "text": [
      "10006_eda_measures.csv\n"
     ]
    },
    {
     "name": "stderr",
     "output_type": "stream",
     "text": [
      "Feature Extraction: 100%|███████████████████████████████████████████████████| 20/20 [00:00<00:00, 35.11it/s]\n",
      "Feature Extraction: 100%|██████████████████████████████████████████████████| 19/19 [00:00<00:00, 935.80it/s]\n",
      "Feature Extraction: 100%|███████████████████████████████████████████████████| 20/20 [00:00<00:00, 32.59it/s]\n",
      "Feature Extraction: 100%|███████████████████████████████████████████████████| 20/20 [00:00<00:00, 30.78it/s]\n",
      "Feature Extraction: 100%|███████████████████████████████████████████████████| 20/20 [00:00<00:00, 27.35it/s]\n",
      "Feature Extraction: 100%|██████████████████████████████████████████████████| 20/20 [00:00<00:00, 846.66it/s]\n",
      "Feature Extraction: 100%|███████████████████████████████████████████████████| 20/20 [00:00<00:00, 25.67it/s]\n"
     ]
    },
    {
     "name": "stdout",
     "output_type": "stream",
     "text": [
      "10015_eda_measures.csv\n"
     ]
    },
    {
     "name": "stderr",
     "output_type": "stream",
     "text": [
      "Feature Extraction: 100%|███████████████████████████████████████████████████| 20/20 [00:00<00:00, 30.48it/s]\n",
      "Feature Extraction: 100%|████████████████████████████████████████████████| 19/19 [00:00<00:00, 12617.44it/s]\n",
      "Feature Extraction: 100%|███████████████████████████████████████████████████| 20/20 [00:00<00:00, 28.08it/s]\n",
      "Feature Extraction: 100%|█████████████████████████████████████████████████| 14/14 [00:00<00:00, 1975.85it/s]\n",
      "Feature Extraction: 100%|████████████████████████████████████████████████| 14/14 [00:00<00:00, 10422.48it/s]\n",
      "Feature Extraction: 100%|█████████████████████████████████████████████████| 14/14 [00:00<00:00, 5411.01it/s]\n",
      "Feature Extraction: 100%|████████████████████████████████████████████████| 14/14 [00:00<00:00, 10166.25it/s]\n"
     ]
    },
    {
     "name": "stdout",
     "output_type": "stream",
     "text": [
      "f10007_eda_measures.csv\n"
     ]
    },
    {
     "name": "stderr",
     "output_type": "stream",
     "text": [
      "Feature Extraction: 100%|███████████████████████████████████████████████████| 20/20 [00:00<00:00, 26.49it/s]\n",
      "Feature Extraction: 100%|█████████████████████████████████████████████████| 20/20 [00:00<00:00, 3474.12it/s]\n",
      "Feature Extraction: 100%|███████████████████████████████████████████████████| 20/20 [00:00<00:00, 33.53it/s]\n",
      "Feature Extraction: 100%|███████████████████████████████████████████████████| 20/20 [00:00<00:00, 31.09it/s]\n",
      "Feature Extraction: 100%|███████████████████████████████████████████████████| 20/20 [00:00<00:00, 28.83it/s]\n",
      "Feature Extraction: 100%|██████████████████████████████████████████████████| 20/20 [00:00<00:00, 820.44it/s]\n",
      "Feature Extraction: 100%|███████████████████████████████████████████████████| 20/20 [00:00<00:00, 25.54it/s]\n"
     ]
    },
    {
     "name": "stdout",
     "output_type": "stream",
     "text": [
      "f10031_eda_measures.csv\n"
     ]
    },
    {
     "name": "stderr",
     "output_type": "stream",
     "text": [
      "Feature Extraction: 100%|███████████████████████████████████████████████████| 20/20 [00:00<00:00, 48.48it/s]\n",
      "Feature Extraction: 100%|█████████████████████████████████████████████████| 20/20 [00:00<00:00, 4359.53it/s]\n",
      "Feature Extraction: 100%|███████████████████████████████████████████████████| 20/20 [00:00<00:00, 37.62it/s]\n",
      "Feature Extraction: 100%|███████████████████████████████████████████████████| 20/20 [00:00<00:00, 43.28it/s]\n",
      "Feature Extraction: 100%|███████████████████████████████████████████████████| 20/20 [00:00<00:00, 32.58it/s]\n",
      "Feature Extraction: 100%|█████████████████████████████████████████████████| 17/17 [00:00<00:00, 3429.03it/s]\n",
      "Feature Extraction: 100%|███████████████████████████████████████████████████| 20/20 [00:00<00:00, 45.83it/s]\n"
     ]
    },
    {
     "name": "stdout",
     "output_type": "stream",
     "text": [
      "10020_eda_measures.csv\n"
     ]
    },
    {
     "name": "stderr",
     "output_type": "stream",
     "text": [
      "Feature Extraction: 100%|███████████████████████████████████████████████████| 20/20 [00:00<00:00, 32.48it/s]\n",
      "Feature Extraction: 100%|█████████████████████████████████████████████████| 20/20 [00:00<00:00, 1142.35it/s]\n",
      "Feature Extraction: 100%|███████████████████████████████████████████████████| 20/20 [00:00<00:00, 24.25it/s]\n",
      "Feature Extraction: 100%|███████████████████████████████████████████████████| 20/20 [00:00<00:00, 32.40it/s]\n",
      "Feature Extraction: 100%|███████████████████████████████████████████████████| 20/20 [00:00<00:00, 23.33it/s]\n",
      "Feature Extraction: 100%|█████████████████████████████████████████████████| 19/19 [00:00<00:00, 1970.72it/s]\n",
      "Feature Extraction: 100%|███████████████████████████████████████████████████| 20/20 [00:00<00:00, 26.40it/s]\n"
     ]
    },
    {
     "name": "stdout",
     "output_type": "stream",
     "text": [
      "f10005_eda_measures.csv\n"
     ]
    },
    {
     "name": "stderr",
     "output_type": "stream",
     "text": [
      "Feature Extraction: 100%|███████████████████████████████████████████████████| 20/20 [00:00<00:00, 31.01it/s]\n",
      "Feature Extraction: 100%|█████████████████████████████████████████████████| 18/18 [00:00<00:00, 3886.21it/s]\n",
      "Feature Extraction: 100%|███████████████████████████████████████████████████| 20/20 [00:00<00:00, 44.57it/s]\n",
      "Feature Extraction: 100%|███████████████████████████████████████████████████| 20/20 [00:00<00:00, 44.43it/s]\n",
      "Feature Extraction: 100%|███████████████████████████████████████████████████| 20/20 [00:00<00:00, 34.09it/s]\n",
      "Feature Extraction: 100%|██████████████████████████████████████████████████| 19/19 [00:00<00:00, 990.62it/s]\n",
      "Feature Extraction: 100%|███████████████████████████████████████████████████| 20/20 [00:00<00:00, 49.71it/s]\n"
     ]
    },
    {
     "name": "stdout",
     "output_type": "stream",
     "text": [
      "f10003_eda_measures.csv\n"
     ]
    },
    {
     "name": "stderr",
     "output_type": "stream",
     "text": [
      "Feature Extraction: 100%|███████████████████████████████████████████████████| 20/20 [00:00<00:00, 29.85it/s]\n",
      "Feature Extraction: 100%|██████████████████████████████████████████████████| 19/19 [00:00<00:00, 758.74it/s]\n",
      "Feature Extraction: 100%|███████████████████████████████████████████████████| 20/20 [00:01<00:00, 19.27it/s]\n",
      "Feature Extraction: 100%|███████████████████████████████████████████████████| 20/20 [00:00<00:00, 20.97it/s]\n",
      "Feature Extraction: 100%|███████████████████████████████████████████████████| 20/20 [00:01<00:00, 18.11it/s]\n",
      "Feature Extraction: 100%|█████████████████████████████████████████████████| 20/20 [00:00<00:00, 1277.87it/s]\n",
      "Feature Extraction: 100%|███████████████████████████████████████████████████| 20/20 [00:00<00:00, 28.94it/s]\n"
     ]
    },
    {
     "name": "stdout",
     "output_type": "stream",
     "text": [
      "f10001_eda_measures.csv\n"
     ]
    },
    {
     "name": "stderr",
     "output_type": "stream",
     "text": [
      "Feature Extraction: 100%|███████████████████████████████████████████████████| 20/20 [00:00<00:00, 25.46it/s]\n",
      "Feature Extraction: 100%|█████████████████████████████████████████████████| 19/19 [00:00<00:00, 1069.67it/s]\n",
      "Feature Extraction: 100%|███████████████████████████████████████████████████| 20/20 [00:00<00:00, 26.89it/s]\n",
      "Feature Extraction: 100%|███████████████████████████████████████████████████| 20/20 [00:00<00:00, 34.15it/s]\n",
      "Feature Extraction: 100%|███████████████████████████████████████████████████| 20/20 [00:00<00:00, 27.26it/s]\n",
      "Feature Extraction: 100%|█████████████████████████████████████████████████| 19/19 [00:00<00:00, 1391.66it/s]\n",
      "Feature Extraction: 100%|███████████████████████████████████████████████████| 20/20 [00:00<00:00, 34.24it/s]\n"
     ]
    },
    {
     "name": "stdout",
     "output_type": "stream",
     "text": [
      "f10071_eda_measures.csv\n"
     ]
    },
    {
     "name": "stderr",
     "output_type": "stream",
     "text": [
      "Feature Extraction: 100%|███████████████████████████████████████████████████| 20/20 [00:00<00:00, 32.70it/s]\n",
      "Feature Extraction: 100%|█████████████████████████████████████████████████| 20/20 [00:00<00:00, 1576.84it/s]\n",
      "Feature Extraction: 100%|███████████████████████████████████████████████████| 20/20 [00:00<00:00, 23.79it/s]\n",
      "Feature Extraction: 100%|███████████████████████████████████████████████████| 20/20 [00:00<00:00, 31.73it/s]\n",
      "Feature Extraction: 100%|███████████████████████████████████████████████████| 20/20 [00:00<00:00, 36.79it/s]\n",
      "Feature Extraction: 100%|█████████████████████████████████████████████████| 17/17 [00:00<00:00, 1653.64it/s]\n",
      "Feature Extraction: 100%|███████████████████████████████████████████████████| 20/20 [00:00<00:00, 24.03it/s]\n"
     ]
    },
    {
     "name": "stdout",
     "output_type": "stream",
     "text": [
      "10013_eda_measures.csv\n"
     ]
    },
    {
     "name": "stderr",
     "output_type": "stream",
     "text": [
      "Feature Extraction: 100%|███████████████████████████████████████████████████| 20/20 [00:00<00:00, 33.78it/s]\n",
      "Feature Extraction: 100%|██████████████████████████████████████████████████| 20/20 [00:00<00:00, 723.16it/s]\n",
      "Feature Extraction: 100%|███████████████████████████████████████████████████| 20/20 [00:00<00:00, 32.35it/s]\n",
      "Feature Extraction: 100%|███████████████████████████████████████████████████| 20/20 [00:00<00:00, 34.25it/s]\n",
      "Feature Extraction: 100%|███████████████████████████████████████████████████| 20/20 [00:00<00:00, 34.33it/s]\n",
      "Feature Extraction: 100%|████████████████████████████████████████████████| 19/19 [00:00<00:00, 26599.39it/s]\n",
      "Feature Extraction: 100%|███████████████████████████████████████████████████| 20/20 [00:00<00:00, 33.52it/s]\n"
     ]
    },
    {
     "name": "stdout",
     "output_type": "stream",
     "text": [
      "f10041_eda_measures.csv\n"
     ]
    },
    {
     "name": "stderr",
     "output_type": "stream",
     "text": [
      "Feature Extraction: 100%|███████████████████████████████████████████████████| 20/20 [00:00<00:00, 25.64it/s]\n",
      "Feature Extraction: 100%|██████████████████████████████████████████████████| 20/20 [00:00<00:00, 727.55it/s]\n",
      "Feature Extraction: 100%|███████████████████████████████████████████████████| 20/20 [00:00<00:00, 29.94it/s]\n",
      "Feature Extraction: 100%|███████████████████████████████████████████████████| 20/20 [00:00<00:00, 31.15it/s]\n",
      "Feature Extraction: 100%|███████████████████████████████████████████████████| 20/20 [00:00<00:00, 28.46it/s]\n",
      "Feature Extraction: 100%|█████████████████████████████████████████████████| 20/20 [00:00<00:00, 5101.01it/s]\n",
      "Feature Extraction: 100%|███████████████████████████████████████████████████| 20/20 [00:00<00:00, 31.89it/s]\n"
     ]
    },
    {
     "name": "stdout",
     "output_type": "stream",
     "text": [
      "10010_eda_measures.csv\n"
     ]
    },
    {
     "name": "stderr",
     "output_type": "stream",
     "text": [
      "Feature Extraction: 100%|███████████████████████████████████████████████████| 20/20 [00:00<00:00, 43.20it/s]\n",
      "Feature Extraction: 100%|████████████████████████████████████████████████| 19/19 [00:00<00:00, 10167.36it/s]\n",
      "Feature Extraction: 100%|███████████████████████████████████████████████████| 20/20 [00:00<00:00, 31.17it/s]\n",
      "Feature Extraction: 100%|███████████████████████████████████████████████████| 20/20 [00:00<00:00, 25.31it/s]\n",
      "Feature Extraction: 100%|███████████████████████████████████████████████████| 20/20 [00:00<00:00, 36.91it/s]\n",
      "Feature Extraction: 100%|█████████████████████████████████████████████████| 20/20 [00:00<00:00, 1106.17it/s]\n",
      "Feature Extraction: 100%|███████████████████████████████████████████████████| 20/20 [00:00<00:00, 28.33it/s]\n"
     ]
    },
    {
     "name": "stdout",
     "output_type": "stream",
     "text": [
      "10019_eda_measures.csv\n"
     ]
    },
    {
     "name": "stderr",
     "output_type": "stream",
     "text": [
      "Feature Extraction: 100%|███████████████████████████████████████████████████| 20/20 [00:00<00:00, 32.36it/s]\n",
      "Feature Extraction: 100%|█████████████████████████████████████████████████| 18/18 [00:00<00:00, 2166.98it/s]\n",
      "Feature Extraction: 100%|███████████████████████████████████████████████████| 20/20 [00:00<00:00, 28.79it/s]\n",
      "Feature Extraction: 100%|███████████████████████████████████████████████████| 20/20 [00:00<00:00, 33.63it/s]\n",
      "Feature Extraction: 100%|███████████████████████████████████████████████████| 20/20 [00:00<00:00, 32.01it/s]\n",
      "Feature Extraction: 100%|█████████████████████████████████████████████████| 19/19 [00:00<00:00, 3139.33it/s]\n",
      "Feature Extraction: 100%|███████████████████████████████████████████████████| 20/20 [00:00<00:00, 35.58it/s]\n"
     ]
    },
    {
     "name": "stdout",
     "output_type": "stream",
     "text": [
      "f10006_eda_measures.csv\n"
     ]
    },
    {
     "name": "stderr",
     "output_type": "stream",
     "text": [
      "Feature Extraction: 100%|███████████████████████████████████████████████████| 20/20 [00:00<00:00, 26.90it/s]\n",
      "Feature Extraction: 100%|█████████████████████████████████████████████████| 20/20 [00:00<00:00, 1057.79it/s]\n",
      "Feature Extraction: 100%|███████████████████████████████████████████████████| 20/20 [00:00<00:00, 31.27it/s]\n",
      "Feature Extraction: 100%|███████████████████████████████████████████████████| 20/20 [00:00<00:00, 30.36it/s]\n",
      "Feature Extraction: 100%|███████████████████████████████████████████████████| 20/20 [00:00<00:00, 26.91it/s]\n",
      "Feature Extraction: 100%|█████████████████████████████████████████████████| 20/20 [00:00<00:00, 1567.91it/s]\n",
      "Feature Extraction: 100%|███████████████████████████████████████████████████| 20/20 [00:00<00:00, 32.16it/s]\n"
     ]
    },
    {
     "name": "stdout",
     "output_type": "stream",
     "text": [
      "10012_eda_measures.csv\n"
     ]
    },
    {
     "name": "stderr",
     "output_type": "stream",
     "text": [
      "Feature Extraction: 100%|███████████████████████████████████████████████████| 20/20 [00:00<00:00, 26.80it/s]\n",
      "Feature Extraction: 100%|█████████████████████████████████████████████████| 19/19 [00:00<00:00, 2041.91it/s]\n",
      "Feature Extraction: 100%|███████████████████████████████████████████████████| 20/20 [00:00<00:00, 30.10it/s]\n",
      "Feature Extraction: 100%|███████████████████████████████████████████████████| 20/20 [00:00<00:00, 26.85it/s]\n",
      "Feature Extraction: 100%|███████████████████████████████████████████████████| 20/20 [00:00<00:00, 33.06it/s]\n",
      "Feature Extraction: 100%|█████████████████████████████████████████████████| 20/20 [00:00<00:00, 1078.84it/s]\n",
      "Feature Extraction: 100%|███████████████████████████████████████████████████| 20/20 [00:00<00:00, 31.16it/s]\n"
     ]
    },
    {
     "name": "stdout",
     "output_type": "stream",
     "text": [
      "f10051_eda_measures.csv\n"
     ]
    },
    {
     "name": "stderr",
     "output_type": "stream",
     "text": [
      "Feature Extraction: 100%|███████████████████████████████████████████████████| 20/20 [00:00<00:00, 32.38it/s]\n",
      "Feature Extraction: 100%|██████████████████████████████████████████████████| 19/19 [00:00<00:00, 875.32it/s]\n",
      "Feature Extraction: 100%|███████████████████████████████████████████████████| 20/20 [00:00<00:00, 29.07it/s]\n",
      "Feature Extraction: 100%|███████████████████████████████████████████████████| 20/20 [00:00<00:00, 32.00it/s]\n",
      "Feature Extraction: 100%|███████████████████████████████████████████████████| 20/20 [00:00<00:00, 27.16it/s]\n",
      "Feature Extraction: 100%|█████████████████████████████████████████████████| 20/20 [00:00<00:00, 3109.54it/s]\n",
      "Feature Extraction: 100%|███████████████████████████████████████████████████| 20/20 [00:00<00:00, 32.31it/s]\n"
     ]
    },
    {
     "name": "stdout",
     "output_type": "stream",
     "text": [
      "10014_eda_measures.csv\n"
     ]
    },
    {
     "name": "stderr",
     "output_type": "stream",
     "text": [
      "Feature Extraction: 100%|███████████████████████████████████████████████████| 20/20 [00:00<00:00, 69.35it/s]\n",
      "Feature Extraction: 100%|████████████████████████████████████████████████| 18/18 [00:00<00:00, 18364.75it/s]\n",
      "Feature Extraction: 100%|███████████████████████████████████████████████████| 20/20 [00:00<00:00, 25.91it/s]\n",
      "Feature Extraction: 100%|███████████████████████████████████████████████████| 20/20 [00:00<00:00, 80.89it/s]\n",
      "Feature Extraction: 100%|██████████████████████████████████████████████████| 20/20 [00:00<00:00, 172.56it/s]\n",
      "Feature Extraction: 100%|█████████████████████████████████████████████████| 19/19 [00:00<00:00, 1838.76it/s]\n",
      "Feature Extraction: 100%|███████████████████████████████████████████████████| 20/20 [00:00<00:00, 48.00it/s]\n"
     ]
    }
   ],
   "source": [
    "for filename in os.listdir(input_dir_path):\n",
    "    print(filename)\n",
    "    df_id = filename.split('_')[0]\n",
    "    input_df = pd.read_csv(os.path.join(input_dir_path, filename))\n",
    "    input_df.fillna(0, inplace=True)\n",
    "\n",
    "    settings = MinimalFCParameters()\n",
    "\n",
    "    engagement_amplitude_mean = extract_features(input_df, column_id='engagement_amplitude_mean', column_sort='window', default_fc_parameters=settings)\n",
    "    engagement_amplitude_mean.dropna(axis=1, how='all', inplace=True)\n",
    "\n",
    "    engagement_nr_peaks_mean = extract_features(input_df, column_id='engagement_nr_peaks_mean', column_sort='window', default_fc_parameters=settings)\n",
    "    engagement_nr_peaks_mean.dropna(axis=1, how='all', inplace=True)\n",
    "\n",
    "    engagement_auc_mean = extract_features(input_df, column_id='engagement_auc_mean', column_sort='window', default_fc_parameters=settings)\n",
    "    engagement_auc_mean.dropna(axis=1, how='all', inplace=True)\n",
    "\n",
    "    arousal = extract_features(input_df, column_id='arousal', column_sort='window', default_fc_parameters=settings)\n",
    "    arousal.dropna(axis=1, how='all', inplace=True)\n",
    "\n",
    "    engagement_amplitude_diff = extract_features(input_df, column_id='engagement_amplitude_diff', column_sort='window', default_fc_parameters=settings)\n",
    "    engagement_amplitude_diff.dropna(axis=1, how='all', inplace=True)\n",
    "\n",
    "    engagement_nr_peaks_diff = extract_features(input_df, column_id='engagement_nr_peaks_diff', column_sort='window', default_fc_parameters=settings)\n",
    "    engagement_nr_peaks_diff.dropna(axis=1, how='all', inplace=True)\n",
    "\n",
    "    engagement_auc_diff = extract_features(input_df, column_id='engagement_auc_diff', column_sort='window', default_fc_parameters=settings)\n",
    "    engagement_auc_diff.dropna(axis=1, how='all', inplace=True)\n",
    "\n",
    "\n",
    "    df1 = engagement_amplitude_mean.reset_index(drop=True)\n",
    "    df2 = engagement_nr_peaks_mean.reset_index(drop=True)\n",
    "    df3 = engagement_auc_mean.reset_index(drop=True)\n",
    "    df4 = arousal.reset_index(drop=True)\n",
    "    df5 = engagement_amplitude_diff.reset_index(drop=True)\n",
    "    df6 = engagement_nr_peaks_diff.reset_index(drop=True)\n",
    "    df7 = engagement_auc_diff.reset_index(drop=True)\n",
    "    \n",
    "    main_df = input_df.reset_index(drop=True)\n",
    "\n",
    "    extracted_eda_feat = pd.concat([df1, df2, df3, df4, df5, df6, df7], axis=1)\n",
    "    eda_features = pd.concat([main_df, extracted_eda_feat], axis=1)\n",
    "\n",
    "    #cols_to_drop = []\n",
    "    #for col in cog_df_features.columns:\n",
    "    #    if cog_df_features[col].nunique() == 1:\n",
    "    #        cols_to_drop.append(col)\n",
    "\n",
    "    #cog_df_features.drop(cols_to_drop, axis=1, inplace=True)\n",
    "\n",
    "    output_filename = f\"{df_id}_eda_features.csv\"\n",
    "    eda_features.to_csv(os.path.join(output_dir, output_filename), index=False)"
   ]
  }
 ],
 "metadata": {
  "kernelspec": {
   "display_name": "Python 3 (ipykernel)",
   "language": "python",
   "name": "python3"
  },
  "language_info": {
   "codemirror_mode": {
    "name": "ipython",
    "version": 3
   },
   "file_extension": ".py",
   "mimetype": "text/x-python",
   "name": "python",
   "nbconvert_exporter": "python",
   "pygments_lexer": "ipython3",
   "version": "3.8.10"
  }
 },
 "nbformat": 4,
 "nbformat_minor": 5
}
